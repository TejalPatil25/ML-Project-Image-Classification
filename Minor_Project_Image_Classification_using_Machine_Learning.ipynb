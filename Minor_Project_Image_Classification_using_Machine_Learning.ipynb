{
  "nbformat": 4,
  "nbformat_minor": 0,
  "metadata": {
    "colab": {
      "name": "Minor Project Image Classification using Machine Learning.ipynb",
      "provenance": [],
      "collapsed_sections": [],
      "authorship_tag": "ABX9TyNnexRiSGYfUNj+TflHYMwk",
      "include_colab_link": true
    },
    "kernelspec": {
      "name": "python3",
      "display_name": "Python 3"
    },
    "language_info": {
      "name": "python"
    }
  },
  "cells": [
    {
      "cell_type": "markdown",
      "metadata": {
        "id": "view-in-github",
        "colab_type": "text"
      },
      "source": [
        "<a href=\"https://colab.research.google.com/github/TejalPatil25/ML-Project-Image-Classification/blob/main/Minor_Project_Image_Classification_using_Machine_Learning.ipynb\" target=\"_parent\"><img src=\"https://colab.research.google.com/assets/colab-badge.svg\" alt=\"Open In Colab\"/></a>"
      ]
    },
    {
      "cell_type": "code",
      "metadata": {
        "colab": {
          "base_uri": "https://localhost:8080/"
        },
        "id": "3WTg3ZsbUYIi",
        "outputId": "ecc8ebc9-aea6-44ea-ac52-aacd3fda6364"
      },
      "source": [
        "# This shows the time taken for compilation and execution of each cell in the program\n",
        "\n",
        "!pip install ipython-autotime\n",
        "%load_ext autotime"
      ],
      "execution_count": null,
      "outputs": [
        {
          "output_type": "stream",
          "text": [
            "Collecting ipython-autotime\n",
            "  Downloading https://files.pythonhosted.org/packages/b4/c9/b413a24f759641bc27ef98c144b590023c8038dfb8a3f09e713e9dff12c1/ipython_autotime-0.3.1-py2.py3-none-any.whl\n",
            "Requirement already satisfied: ipython in /usr/local/lib/python3.7/dist-packages (from ipython-autotime) (5.5.0)\n",
            "Requirement already satisfied: decorator in /usr/local/lib/python3.7/dist-packages (from ipython->ipython-autotime) (4.4.2)\n",
            "Requirement already satisfied: pickleshare in /usr/local/lib/python3.7/dist-packages (from ipython->ipython-autotime) (0.7.5)\n",
            "Requirement already satisfied: pygments in /usr/local/lib/python3.7/dist-packages (from ipython->ipython-autotime) (2.6.1)\n",
            "Requirement already satisfied: traitlets>=4.2 in /usr/local/lib/python3.7/dist-packages (from ipython->ipython-autotime) (5.0.5)\n",
            "Requirement already satisfied: prompt-toolkit<2.0.0,>=1.0.4 in /usr/local/lib/python3.7/dist-packages (from ipython->ipython-autotime) (1.0.18)\n",
            "Requirement already satisfied: pexpect; sys_platform != \"win32\" in /usr/local/lib/python3.7/dist-packages (from ipython->ipython-autotime) (4.8.0)\n",
            "Requirement already satisfied: simplegeneric>0.8 in /usr/local/lib/python3.7/dist-packages (from ipython->ipython-autotime) (0.8.1)\n",
            "Requirement already satisfied: setuptools>=18.5 in /usr/local/lib/python3.7/dist-packages (from ipython->ipython-autotime) (54.1.2)\n",
            "Requirement already satisfied: ipython-genutils in /usr/local/lib/python3.7/dist-packages (from traitlets>=4.2->ipython->ipython-autotime) (0.2.0)\n",
            "Requirement already satisfied: six>=1.9.0 in /usr/local/lib/python3.7/dist-packages (from prompt-toolkit<2.0.0,>=1.0.4->ipython->ipython-autotime) (1.15.0)\n",
            "Requirement already satisfied: wcwidth in /usr/local/lib/python3.7/dist-packages (from prompt-toolkit<2.0.0,>=1.0.4->ipython->ipython-autotime) (0.2.5)\n",
            "Requirement already satisfied: ptyprocess>=0.5 in /usr/local/lib/python3.7/dist-packages (from pexpect; sys_platform != \"win32\"->ipython->ipython-autotime) (0.7.0)\n",
            "Installing collected packages: ipython-autotime\n",
            "Successfully installed ipython-autotime-0.3.1\n",
            "time: 1.76 ms (started: 2021-03-28 15:33:52 +00:00)\n"
          ],
          "name": "stdout"
        }
      ]
    },
    {
      "cell_type": "code",
      "metadata": {
        "colab": {
          "base_uri": "https://localhost:8080/"
        },
        "id": "-mAhHA6yagto",
        "outputId": "539332cf-b26e-4f3a-ebc7-0f6f12164b0d"
      },
      "source": [
        "# Step 1 : Gathering the data\n",
        "\n",
        "# Downloading Bing Image Downloader for extracting the data tht at is the images\n",
        "\n",
        "!pip install bing-image-downloader"
      ],
      "execution_count": null,
      "outputs": [
        {
          "output_type": "stream",
          "text": [
            "Collecting bing-image-downloader\n",
            "  Downloading https://files.pythonhosted.org/packages/0d/bf/537a61030b84ae4cd5022d5c7b014fd9bc3ce7c02358919153a6658a61d3/bing_image_downloader-1.0.4-py3-none-any.whl\n",
            "Installing collected packages: bing-image-downloader\n",
            "Successfully installed bing-image-downloader-1.0.4\n",
            "time: 3.14 s (started: 2021-03-28 15:33:52 +00:00)\n"
          ],
          "name": "stdout"
        }
      ]
    },
    {
      "cell_type": "code",
      "metadata": {
        "colab": {
          "base_uri": "https://localhost:8080/"
        },
        "id": "SMD4mPAJak6n",
        "outputId": "74639fc7-f50e-4f17-9f1d-da027c90ef69"
      },
      "source": [
        "# Creating a folder named images to store the downloaded images\n",
        "\n",
        "!mkdir images"
      ],
      "execution_count": null,
      "outputs": [
        {
          "output_type": "stream",
          "text": [
            "time: 116 ms (started: 2021-03-28 15:33:58 +00:00)\n"
          ],
          "name": "stdout"
        }
      ]
    },
    {
      "cell_type": "code",
      "metadata": {
        "colab": {
          "base_uri": "https://localhost:8080/"
        },
        "id": "UzZq59HQaoRa",
        "outputId": "3571e222-d3eb-4028-e42f-cfc256f3ee74"
      },
      "source": [
        "# Downloading Images for Starbucks Logo\n",
        "\n",
        "from bing_image_downloader import downloader\n",
        "downloader.download(\"Starbucks Logo\",limit=30,output_dir='images',\n",
        "                    adult_filter_off=True)"
      ],
      "execution_count": null,
      "outputs": [
        {
          "output_type": "stream",
          "text": [
            "\n",
            "\n",
            "[!!]Indexing page: 1\n",
            "\n",
            "[%] Indexed 13 Images on Page 1.\n",
            "\n",
            "===============================================\n",
            "\n",
            "[%] Downloading Image #1 from https://stories.starbucks.com/uploads/2019/01/MSR_Logo_-_Starbucks_Rewards-1.jpg\n",
            "[%] File Downloaded !\n",
            "\n",
            "[%] Downloading Image #2 from https://editorial.designtaxi.com/editorial-images/news-colorswap26082015/3.gif\n",
            "[%] File Downloaded !\n",
            "\n",
            "[%] Downloading Image #3 from https://www.bing.com/th/id/OGC.e1c0d0835778bb4c8873a44e8168a7b3?pid=1.7&amp;rurl=https%3a%2f%2feditorial.designtaxi.com%2feditorial-images%2fnews-colorswap26082015%2f3.gif&amp;ehk=y0nJsm9%2fUiVMGdJQUYTWHLoW6NTnz5j6l2CpMdyGnoE%3d\n",
            "[!] Issue getting: https://www.bing.com/th/id/OGC.e1c0d0835778bb4c8873a44e8168a7b3?pid=1.7&amp;rurl=https%3a%2f%2feditorial.designtaxi.com%2feditorial-images%2fnews-colorswap26082015%2f3.gif&amp;ehk=y0nJsm9%2fUiVMGdJQUYTWHLoW6NTnz5j6l2CpMdyGnoE%3d\n",
            "[!] Error:: HTTP Error 404: Not Found\n",
            "[%] Downloading Image #3 from https://compote.slate.com/images/f06d0784-fef7-421c-95aa-4561543eff35.jpg\n",
            "[%] File Downloaded !\n",
            "\n",
            "[%] Downloading Image #4 from https://3.bp.blogspot.com/-EXyJJYpEG7M/WXC9_20NUiI/AAAAAAAAPWw/FN5Z_2euiscuNu6x76xlr2ZEKQGFuX91gCLcBGAs/s640/starbucks-anime-girl-04.jpg\n",
            "[%] File Downloaded !\n",
            "\n",
            "[%] Downloading Image #5 from https://divnil.com/wallpaper/iphone5/img/app/s/t/starbucks_wallpaper_logo_for_iphone_5_and_6_black_background_352145272f81e7151e9ba42fdfa1dedc_raw.jpg\n",
            "[%] File Downloaded !\n",
            "\n",
            "[%] Downloading Image #6 from http://blog.modes4u.com/images/Christmas-crafts-Christmas-Paper-Bag-Makeover/Christmas-crafts-Christmas-Paper-Bag-Makeover-6.jpg\n",
            "[%] File Downloaded !\n",
            "\n",
            "[%] Downloading Image #7 from https://digitalsynopsis.com/wp-content/uploads/2014/08/honest-advertising-slogans-25.jpg\n",
            "[%] File Downloaded !\n",
            "\n",
            "[%] Downloading Image #8 from http://2.bp.blogspot.com/-6PXB8GiL_HM/Tt9sJIBOzWI/AAAAAAAAAHM/uVkI30y3B7M/s1600/costa.jpg\n",
            "[%] File Downloaded !\n",
            "\n",
            "[%] Downloading Image #9 from https://editorial.designtaxi.com/news-gatsbyclothes1604/9.jpeg\n",
            "[%] File Downloaded !\n",
            "\n",
            "[%] Downloading Image #10 from https://i.pinimg.com/originals/80/16/29/801629a53470ebedb3d10c020c259f2e.jpg\n",
            "[%] File Downloaded !\n",
            "\n",
            "[%] Downloading Image #11 from https://digitalsynopsis.com/wp-content/uploads/2015/10/funny-honest-logos-famous-companies-7.jpg\n",
            "[%] File Downloaded !\n",
            "\n",
            "[%] Downloading Image #12 from https://www.10wallpaper.com/wallpaper/1440x900/1212/Nike_logo_-_the_global_brand_advertising_wallpaper_05_1440x900.jpg\n",
            "[%] File Downloaded !\n",
            "\n",
            "\n",
            "\n",
            "[!!]Indexing page: 2\n",
            "\n",
            "[%] Indexed 13 Images on Page 2.\n",
            "\n",
            "===============================================\n",
            "\n",
            "[%] Downloading Image #13 from https://stories.starbucks.com/uploads/2019/01/MSR_Logo_-_Starbucks_Rewards-1.jpg\n",
            "[%] File Downloaded !\n",
            "\n",
            "[%] Downloading Image #14 from https://editorial.designtaxi.com/editorial-images/news-colorswap26082015/3.gif\n",
            "[%] File Downloaded !\n",
            "\n",
            "[%] Downloading Image #15 from https://www.bing.com/th/id/OGC.e1c0d0835778bb4c8873a44e8168a7b3?pid=1.7&amp;rurl=https%3a%2f%2feditorial.designtaxi.com%2feditorial-images%2fnews-colorswap26082015%2f3.gif&amp;ehk=y0nJsm9%2fUiVMGdJQUYTWHLoW6NTnz5j6l2CpMdyGnoE%3d\n",
            "[!] Issue getting: https://www.bing.com/th/id/OGC.e1c0d0835778bb4c8873a44e8168a7b3?pid=1.7&amp;rurl=https%3a%2f%2feditorial.designtaxi.com%2feditorial-images%2fnews-colorswap26082015%2f3.gif&amp;ehk=y0nJsm9%2fUiVMGdJQUYTWHLoW6NTnz5j6l2CpMdyGnoE%3d\n",
            "[!] Error:: HTTP Error 404: Not Found\n",
            "[%] Downloading Image #15 from https://compote.slate.com/images/f06d0784-fef7-421c-95aa-4561543eff35.jpg\n",
            "[%] File Downloaded !\n",
            "\n",
            "[%] Downloading Image #16 from https://3.bp.blogspot.com/-EXyJJYpEG7M/WXC9_20NUiI/AAAAAAAAPWw/FN5Z_2euiscuNu6x76xlr2ZEKQGFuX91gCLcBGAs/s640/starbucks-anime-girl-04.jpg\n",
            "[%] File Downloaded !\n",
            "\n",
            "[%] Downloading Image #17 from https://divnil.com/wallpaper/iphone5/img/app/s/t/starbucks_wallpaper_logo_for_iphone_5_and_6_black_background_352145272f81e7151e9ba42fdfa1dedc_raw.jpg\n",
            "[%] File Downloaded !\n",
            "\n",
            "[%] Downloading Image #18 from http://blog.modes4u.com/images/Christmas-crafts-Christmas-Paper-Bag-Makeover/Christmas-crafts-Christmas-Paper-Bag-Makeover-6.jpg\n",
            "[%] File Downloaded !\n",
            "\n",
            "[%] Downloading Image #19 from https://digitalsynopsis.com/wp-content/uploads/2014/08/honest-advertising-slogans-25.jpg\n",
            "[%] File Downloaded !\n",
            "\n",
            "[%] Downloading Image #20 from http://2.bp.blogspot.com/-6PXB8GiL_HM/Tt9sJIBOzWI/AAAAAAAAAHM/uVkI30y3B7M/s1600/costa.jpg\n",
            "[%] File Downloaded !\n",
            "\n",
            "[%] Downloading Image #21 from https://editorial.designtaxi.com/news-gatsbyclothes1604/9.jpeg\n",
            "[%] File Downloaded !\n",
            "\n",
            "[%] Downloading Image #22 from https://i.pinimg.com/originals/80/16/29/801629a53470ebedb3d10c020c259f2e.jpg\n",
            "[%] File Downloaded !\n",
            "\n",
            "[%] Downloading Image #23 from https://digitalsynopsis.com/wp-content/uploads/2015/10/funny-honest-logos-famous-companies-7.jpg\n",
            "[%] File Downloaded !\n",
            "\n",
            "[%] Downloading Image #24 from https://www.10wallpaper.com/wallpaper/1440x900/1212/Nike_logo_-_the_global_brand_advertising_wallpaper_05_1440x900.jpg\n",
            "[%] File Downloaded !\n",
            "\n",
            "\n",
            "\n",
            "[!!]Indexing page: 3\n",
            "\n",
            "[%] Indexed 12 Images on Page 3.\n",
            "\n",
            "===============================================\n",
            "\n",
            "[%] Downloading Image #25 from https://3.bp.blogspot.com/-EXyJJYpEG7M/WXC9_20NUiI/AAAAAAAAPWw/FN5Z_2euiscuNu6x76xlr2ZEKQGFuX91gCLcBGAs/s640/starbucks-anime-girl-04.jpg\n",
            "[%] File Downloaded !\n",
            "\n",
            "[%] Downloading Image #26 from https://digitalsynopsis.com/wp-content/uploads/2015/10/funny-honest-logos-famous-companies-7.jpg\n",
            "[%] File Downloaded !\n",
            "\n",
            "[%] Downloading Image #27 from https://editorial.designtaxi.com/news-gatsbyclothes1604/9.jpeg\n",
            "[%] File Downloaded !\n",
            "\n",
            "[%] Downloading Image #28 from https://divnil.com/wallpaper/iphone5/img/app/s/t/starbucks_wallpaper_logo_for_iphone_5_and_6_black_background_352145272f81e7151e9ba42fdfa1dedc_raw.jpg\n",
            "[%] File Downloaded !\n",
            "\n",
            "[%] Downloading Image #29 from http://blog.modes4u.com/images/Christmas-crafts-Christmas-Paper-Bag-Makeover/Christmas-crafts-Christmas-Paper-Bag-Makeover-6.jpg\n",
            "[%] File Downloaded !\n",
            "\n",
            "[%] Downloading Image #30 from https://digitalsynopsis.com/wp-content/uploads/2014/08/honest-advertising-slogans-25.jpg\n",
            "[%] File Downloaded !\n",
            "\n",
            "\n",
            "\n",
            "[%] Done. Downloaded 30 images.\n",
            "\n",
            "===============================================\n",
            "\n",
            "time: 11.9 s (started: 2021-03-28 15:34:00 +00:00)\n"
          ],
          "name": "stdout"
        }
      ]
    },
    {
      "cell_type": "code",
      "metadata": {
        "colab": {
          "base_uri": "https://localhost:8080/"
        },
        "id": "WtiCs4LTao6O",
        "outputId": "200381c7-0467-4231-cec3-8128ff6de079"
      },
      "source": [
        "# Downloading Images for Mc Donalds Logo\n",
        "\n",
        "downloader.download(\"McDonalds Logo\",limit=30,output_dir='images',\n",
        "                    adult_filter_off=True)"
      ],
      "execution_count": null,
      "outputs": [
        {
          "output_type": "stream",
          "text": [
            "\n",
            "\n",
            "[!!]Indexing page: 1\n",
            "\n",
            "[%] Indexed 12 Images on Page 1.\n",
            "\n",
            "===============================================\n",
            "\n",
            "[%] Downloading Image #1 from https://cdn01.dailycaller.com/wp-content/uploads/2018/03/McDonalds-logo-and-French-fries-e1520449495214.jpg\n",
            "[%] File Downloaded !\n",
            "\n",
            "[%] Downloading Image #2 from http://www.wallpapersin4k.org/wp-content/uploads/2017/04/Superhero-Logo-Wallpaper-For-Iphone-23.jpg\n",
            "[%] File Downloaded !\n",
            "\n",
            "[%] Downloading Image #3 from http://www.wallpapersin4k.org/wp-content/uploads/2017/04/Weeping-Willow-Tree-Wallpaper-13.jpg\n",
            "[%] File Downloaded !\n",
            "\n",
            "[%] Downloading Image #4 from https://www.unilad.co.uk/wp-content/uploads/2017/01/44606UNILAD-imageoptim-maccies2.jpg\n",
            "[%] File Downloaded !\n",
            "\n",
            "[%] Downloading Image #5 from http://www.wallpapersin4k.org/wp-content/uploads/2017/04/Red-Gucci-Wallpaper-22.jpg\n",
            "[%] File Downloaded !\n",
            "\n",
            "[%] Downloading Image #6 from http://www.wallpapersin4k.org/wp-content/uploads/2017/04/Islamic-Wallpaper-For-Phone-23.jpg\n",
            "[%] File Downloaded !\n",
            "\n",
            "[%] Downloading Image #7 from https://www.wallpapersin4k.org/wp-content/uploads/2017/04/Blue-Jordan-Logo-Wallpaper-4.jpg\n",
            "[%] File Downloaded !\n",
            "\n",
            "[%] Downloading Image #8 from http://www.wallpapersin4k.org/wp-content/uploads/2017/04/Cute-Adventure-Time-Wallpaper-9.jpg\n",
            "[%] File Downloaded !\n",
            "\n",
            "[%] Downloading Image #9 from https://www.wallpapersin4k.org/wp-content/uploads/2017/04/Sonu-Name-Logo-Wallpaper-6.jpg\n",
            "[%] File Downloaded !\n",
            "\n",
            "[%] Downloading Image #10 from http://www.wallpapersin4k.org/wp-content/uploads/2017/04/Mobile-Wallpapers-Flowers-11.jpg\n",
            "[%] File Downloaded !\n",
            "\n",
            "[%] Downloading Image #11 from http://www.wallpapersin4k.org/wp-content/uploads/2017/04/Sonu-Name-Logo-Wallpaper-2.jpg\n",
            "[%] File Downloaded !\n",
            "\n",
            "[%] Downloading Image #12 from http://www.wallpapersin4k.org/wp-content/uploads/2017/04/Trap-Nation-Wallpaper-1.jpg\n",
            "[%] File Downloaded !\n",
            "\n",
            "\n",
            "\n",
            "[!!]Indexing page: 2\n",
            "\n",
            "[%] Indexed 12 Images on Page 2.\n",
            "\n",
            "===============================================\n",
            "\n",
            "[%] Downloading Image #13 from https://cdn01.dailycaller.com/wp-content/uploads/2018/03/McDonalds-logo-and-French-fries-e1520449495214.jpg\n",
            "[%] File Downloaded !\n",
            "\n",
            "[%] Downloading Image #14 from http://www.wallpapersin4k.org/wp-content/uploads/2017/04/Superhero-Logo-Wallpaper-For-Iphone-23.jpg\n",
            "[%] File Downloaded !\n",
            "\n",
            "[%] Downloading Image #15 from http://www.wallpapersin4k.org/wp-content/uploads/2017/04/Weeping-Willow-Tree-Wallpaper-13.jpg\n",
            "[%] File Downloaded !\n",
            "\n",
            "[%] Downloading Image #16 from https://www.unilad.co.uk/wp-content/uploads/2017/01/44606UNILAD-imageoptim-maccies2.jpg\n",
            "[%] File Downloaded !\n",
            "\n",
            "[%] Downloading Image #17 from http://www.wallpapersin4k.org/wp-content/uploads/2017/04/Red-Gucci-Wallpaper-22.jpg\n",
            "[%] File Downloaded !\n",
            "\n",
            "[%] Downloading Image #18 from http://www.wallpapersin4k.org/wp-content/uploads/2017/04/Islamic-Wallpaper-For-Phone-23.jpg\n",
            "[%] File Downloaded !\n",
            "\n",
            "[%] Downloading Image #19 from https://www.wallpapersin4k.org/wp-content/uploads/2017/04/Blue-Jordan-Logo-Wallpaper-4.jpg\n",
            "[%] File Downloaded !\n",
            "\n",
            "[%] Downloading Image #20 from http://www.wallpapersin4k.org/wp-content/uploads/2017/04/Cute-Adventure-Time-Wallpaper-9.jpg\n",
            "[%] File Downloaded !\n",
            "\n",
            "[%] Downloading Image #21 from https://www.wallpapersin4k.org/wp-content/uploads/2017/04/Sonu-Name-Logo-Wallpaper-6.jpg\n",
            "[%] File Downloaded !\n",
            "\n",
            "[%] Downloading Image #22 from http://www.wallpapersin4k.org/wp-content/uploads/2017/04/Mobile-Wallpapers-Flowers-11.jpg\n",
            "[%] File Downloaded !\n",
            "\n",
            "[%] Downloading Image #23 from http://www.wallpapersin4k.org/wp-content/uploads/2017/04/Sonu-Name-Logo-Wallpaper-2.jpg\n",
            "[%] File Downloaded !\n",
            "\n",
            "[%] Downloading Image #24 from http://www.wallpapersin4k.org/wp-content/uploads/2017/04/Trap-Nation-Wallpaper-1.jpg\n",
            "[%] File Downloaded !\n",
            "\n",
            "\n",
            "\n",
            "[!!]Indexing page: 3\n",
            "\n",
            "[%] Indexed 11 Images on Page 3.\n",
            "\n",
            "===============================================\n",
            "\n",
            "[%] Downloading Image #25 from https://www.unilad.co.uk/wp-content/uploads/2017/01/44606UNILAD-imageoptim-maccies2.jpg\n",
            "[%] File Downloaded !\n",
            "\n",
            "[%] Downloading Image #26 from http://www.wallpapersin4k.org/wp-content/uploads/2017/04/Islamic-Wallpaper-For-Phone-23.jpg\n",
            "[%] File Downloaded !\n",
            "\n",
            "[%] Downloading Image #27 from https://www.wallpapersin4k.org/wp-content/uploads/2017/04/Blue-Jordan-Logo-Wallpaper-4.jpg\n",
            "[%] File Downloaded !\n",
            "\n",
            "[%] Downloading Image #28 from http://www.wallpapersin4k.org/wp-content/uploads/2017/04/Cute-Adventure-Time-Wallpaper-9.jpg\n",
            "[%] File Downloaded !\n",
            "\n",
            "[%] Downloading Image #29 from https://www.wallpapersin4k.org/wp-content/uploads/2017/04/Sonu-Name-Logo-Wallpaper-6.jpg\n",
            "[%] File Downloaded !\n",
            "\n",
            "[%] Downloading Image #30 from http://www.wallpapersin4k.org/wp-content/uploads/2017/04/Mobile-Wallpapers-Flowers-11.jpg\n",
            "[%] File Downloaded !\n",
            "\n",
            "\n",
            "\n",
            "[%] Done. Downloaded 30 images.\n",
            "\n",
            "===============================================\n",
            "\n",
            "time: 24.8 s (started: 2021-03-28 15:34:20 +00:00)\n"
          ],
          "name": "stdout"
        }
      ]
    },
    {
      "cell_type": "code",
      "metadata": {
        "colab": {
          "base_uri": "https://localhost:8080/"
        },
        "id": "TGQAGJAAaxcL",
        "outputId": "26aa122e-aab9-45cf-b475-3d31e11e695e"
      },
      "source": [
        "# Downloading Images for Dominos Pizza Logo\n",
        "\n",
        "downloader.download(\"Dominos Pizza Logo\",limit=30,output_dir='images',\n",
        "                    adult_filter_off=True)"
      ],
      "execution_count": null,
      "outputs": [
        {
          "output_type": "stream",
          "text": [
            "\n",
            "\n",
            "[!!]Indexing page: 1\n",
            "\n",
            "[%] Indexed 12 Images on Page 1.\n",
            "\n",
            "===============================================\n",
            "\n",
            "[%] Downloading Image #1 from https://gawler.org.au/wp-content/uploads/dominos_logo.jpg\n",
            "[%] File Downloaded !\n",
            "\n",
            "[%] Downloading Image #2 from http://www.adweek.com/files/2016_Apr/dominos-boxes-2.jpg\n",
            "[%] File Downloaded !\n",
            "\n",
            "[%] Downloading Image #3 from https://www.bakingbusiness.com/ext/resources/2019/1/DominosMobileBoxes_Lead.jpg?height=635&amp;t=1547840936&amp;width=1200\n",
            "[%] File Downloaded !\n",
            "\n",
            "[%] Downloading Image #4 from https://images.all-free-download.com/images/graphiclarge/domino_set_clip_art_24048.jpg\n",
            "[%] File Downloaded !\n",
            "\n",
            "[%] Downloading Image #5 from https://compote.slate.com/images/54825f6a-1239-4f10-9042-d1307b0ed0ee.jpeg\n",
            "[%] File Downloaded !\n",
            "\n",
            "[%] Downloading Image #6 from https://1000marcas.net/wp-content/uploads/2020/01/Dominos-Pizza-simbolo.jpg\n",
            "[Error]Invalid image, not saving https://1000marcas.net/wp-content/uploads/2020/01/Dominos-Pizza-simbolo.jpg\n",
            "\n",
            "[!] Issue getting: https://1000marcas.net/wp-content/uploads/2020/01/Dominos-Pizza-simbolo.jpg\n",
            "[!] Error:: No active exception to reraise\n",
            "[%] Downloading Image #6 from https://mymodernmet.com/wp/wp-content/uploads/2017/10/ikea-logo-from-memory.jpg\n",
            "[%] File Downloaded !\n",
            "\n",
            "[%] Downloading Image #7 from http://www.ranklogos.com/wp-content/uploads/2015/05/Jubilant-Life-Sciences-Logo.png\n",
            "[%] File Downloaded !\n",
            "\n",
            "[%] Downloading Image #8 from https://i.pinimg.com/236x/cf/85/86/cf8586d95f474b3b86265d24513df079.jpg\n",
            "[%] File Downloaded !\n",
            "\n",
            "[%] Downloading Image #9 from https://www.nrn.com/sites/nrn.com/files/styles/article_featured_standard/public/bob-evans-logo2013.jpg?itok=mGtIQwEx\n",
            "[%] File Downloaded !\n",
            "\n",
            "[%] Downloading Image #10 from https://mir-s3-cdn-cf.behance.net/project_modules/disp/14725e66141055.5b0c62ed020a6.jpg\n",
            "[Error]Invalid image, not saving https://mir-s3-cdn-cf.behance.net/project_modules/disp/14725e66141055.5b0c62ed020a6.jpg\n",
            "\n",
            "[!] Issue getting: https://mir-s3-cdn-cf.behance.net/project_modules/disp/14725e66141055.5b0c62ed020a6.jpg\n",
            "[!] Error:: No active exception to reraise\n",
            "[%] Downloading Image #10 from https://1000logos.net/wp-content/uploads/2017/07/McDonalds-1-500x424.jpg\n",
            "[%] File Downloaded !\n",
            "\n",
            "\n",
            "\n",
            "[!!]Indexing page: 2\n",
            "\n",
            "[%] Indexed 12 Images on Page 2.\n",
            "\n",
            "===============================================\n",
            "\n",
            "[%] Downloading Image #11 from https://gawler.org.au/wp-content/uploads/dominos_logo.jpg\n",
            "[%] File Downloaded !\n",
            "\n",
            "[%] Downloading Image #12 from http://www.adweek.com/files/2016_Apr/dominos-boxes-2.jpg\n",
            "[%] File Downloaded !\n",
            "\n",
            "[%] Downloading Image #13 from https://www.bakingbusiness.com/ext/resources/2019/1/DominosMobileBoxes_Lead.jpg?height=635&amp;t=1547840936&amp;width=1200\n",
            "[%] File Downloaded !\n",
            "\n",
            "[%] Downloading Image #14 from https://images.all-free-download.com/images/graphiclarge/domino_set_clip_art_24048.jpg\n",
            "[%] File Downloaded !\n",
            "\n",
            "[%] Downloading Image #15 from https://compote.slate.com/images/54825f6a-1239-4f10-9042-d1307b0ed0ee.jpeg\n",
            "[%] File Downloaded !\n",
            "\n",
            "[%] Downloading Image #16 from https://1000marcas.net/wp-content/uploads/2020/01/Dominos-Pizza-simbolo.jpg\n",
            "[Error]Invalid image, not saving https://1000marcas.net/wp-content/uploads/2020/01/Dominos-Pizza-simbolo.jpg\n",
            "\n",
            "[!] Issue getting: https://1000marcas.net/wp-content/uploads/2020/01/Dominos-Pizza-simbolo.jpg\n",
            "[!] Error:: No active exception to reraise\n",
            "[%] Downloading Image #16 from https://mymodernmet.com/wp/wp-content/uploads/2017/10/ikea-logo-from-memory.jpg\n",
            "[%] File Downloaded !\n",
            "\n",
            "[%] Downloading Image #17 from http://www.ranklogos.com/wp-content/uploads/2015/05/Jubilant-Life-Sciences-Logo.png\n",
            "[%] File Downloaded !\n",
            "\n",
            "[%] Downloading Image #18 from https://i.pinimg.com/236x/cf/85/86/cf8586d95f474b3b86265d24513df079.jpg\n",
            "[%] File Downloaded !\n",
            "\n",
            "[%] Downloading Image #19 from https://www.nrn.com/sites/nrn.com/files/styles/article_featured_standard/public/bob-evans-logo2013.jpg?itok=mGtIQwEx\n",
            "[%] File Downloaded !\n",
            "\n",
            "[%] Downloading Image #20 from https://mir-s3-cdn-cf.behance.net/project_modules/disp/14725e66141055.5b0c62ed020a6.jpg\n",
            "[Error]Invalid image, not saving https://mir-s3-cdn-cf.behance.net/project_modules/disp/14725e66141055.5b0c62ed020a6.jpg\n",
            "\n",
            "[!] Issue getting: https://mir-s3-cdn-cf.behance.net/project_modules/disp/14725e66141055.5b0c62ed020a6.jpg\n",
            "[!] Error:: No active exception to reraise\n",
            "[%] Downloading Image #20 from https://1000logos.net/wp-content/uploads/2017/07/McDonalds-1-500x424.jpg\n",
            "[%] File Downloaded !\n",
            "\n",
            "\n",
            "\n",
            "[!!]Indexing page: 3\n",
            "\n",
            "[%] Indexed 11 Images on Page 3.\n",
            "\n",
            "===============================================\n",
            "\n",
            "[%] Downloading Image #21 from http://www.adweek.com/files/2016_Apr/dominos-boxes-2.jpg\n",
            "[%] File Downloaded !\n",
            "\n",
            "[%] Downloading Image #22 from https://www.bakingbusiness.com/ext/resources/2019/1/DominosMobileBoxes_Lead.jpg?height=635&amp;t=1547840936&amp;width=1200\n",
            "[%] File Downloaded !\n",
            "\n",
            "[%] Downloading Image #23 from https://images.all-free-download.com/images/graphiclarge/domino_set_clip_art_24048.jpg\n",
            "[%] File Downloaded !\n",
            "\n",
            "[%] Downloading Image #24 from https://compote.slate.com/images/54825f6a-1239-4f10-9042-d1307b0ed0ee.jpeg\n",
            "[%] File Downloaded !\n",
            "\n",
            "[%] Downloading Image #25 from https://1000marcas.net/wp-content/uploads/2020/01/Dominos-Pizza-simbolo.jpg\n",
            "[Error]Invalid image, not saving https://1000marcas.net/wp-content/uploads/2020/01/Dominos-Pizza-simbolo.jpg\n",
            "\n",
            "[!] Issue getting: https://1000marcas.net/wp-content/uploads/2020/01/Dominos-Pizza-simbolo.jpg\n",
            "[!] Error:: No active exception to reraise\n",
            "[%] Downloading Image #25 from https://mymodernmet.com/wp/wp-content/uploads/2017/10/ikea-logo-from-memory.jpg\n",
            "[%] File Downloaded !\n",
            "\n",
            "[%] Downloading Image #26 from http://www.ranklogos.com/wp-content/uploads/2015/05/Jubilant-Life-Sciences-Logo.png\n",
            "[%] File Downloaded !\n",
            "\n",
            "[%] Downloading Image #27 from https://i.pinimg.com/236x/cf/85/86/cf8586d95f474b3b86265d24513df079.jpg\n",
            "[%] File Downloaded !\n",
            "\n",
            "[%] Downloading Image #28 from https://www.nrn.com/sites/nrn.com/files/styles/article_featured_standard/public/bob-evans-logo2013.jpg?itok=mGtIQwEx\n",
            "[%] File Downloaded !\n",
            "\n",
            "[%] Downloading Image #29 from https://mir-s3-cdn-cf.behance.net/project_modules/disp/14725e66141055.5b0c62ed020a6.jpg\n",
            "[Error]Invalid image, not saving https://mir-s3-cdn-cf.behance.net/project_modules/disp/14725e66141055.5b0c62ed020a6.jpg\n",
            "\n",
            "[!] Issue getting: https://mir-s3-cdn-cf.behance.net/project_modules/disp/14725e66141055.5b0c62ed020a6.jpg\n",
            "[!] Error:: No active exception to reraise\n",
            "[%] Downloading Image #29 from https://1000logos.net/wp-content/uploads/2017/07/McDonalds-1-500x424.jpg\n",
            "[%] File Downloaded !\n",
            "\n",
            "\n",
            "\n",
            "[!!]Indexing page: 4\n",
            "\n",
            "[%] Indexed 10 Images on Page 4.\n",
            "\n",
            "===============================================\n",
            "\n",
            "[%] Downloading Image #30 from https://www.bakingbusiness.com/ext/resources/2019/1/DominosMobileBoxes_Lead.jpg?height=635&amp;t=1547840936&amp;width=1200\n",
            "[%] File Downloaded !\n",
            "\n",
            "\n",
            "\n",
            "[%] Done. Downloaded 30 images.\n",
            "\n",
            "===============================================\n",
            "\n",
            "time: 11.1 s (started: 2021-03-28 15:34:53 +00:00)\n"
          ],
          "name": "stdout"
        }
      ]
    },
    {
      "cell_type": "code",
      "metadata": {
        "colab": {
          "base_uri": "https://localhost:8080/"
        },
        "id": "h41A-kyrayVu",
        "outputId": "96722eac-0418-4d83-dd79-b5bdb342518f"
      },
      "source": [
        "# Downloading Images for Subway Logo\n",
        "\n",
        "downloader.download(\"Subway Logo\",limit=30,output_dir='images',\n",
        "                    adult_filter_off=True)"
      ],
      "execution_count": null,
      "outputs": [
        {
          "output_type": "stream",
          "text": [
            "\n",
            "\n",
            "[!!]Indexing page: 1\n",
            "\n",
            "[%] Indexed 12 Images on Page 1.\n",
            "\n",
            "===============================================\n",
            "\n",
            "[%] Downloading Image #1 from https://i.ytimg.com/vi/-FWMoErw4DE/maxresdefault.jpg\n",
            "[%] File Downloaded !\n",
            "\n",
            "[%] Downloading Image #2 from http://jigsawpuzzles.online/king-include/uploads/london-tube-subway-metro-logo-underground-3690713820.jpg\n",
            "[%] File Downloaded !\n",
            "\n",
            "[%] Downloading Image #3 from https://upload.wikimedia.org/wikipedia/commons/thumb/1/1d/Komsomolskaya-KL_MosMetro_station_02-2015_platform.jpg/1920px-Komsomolskaya-KL_MosMetro_station_02-2015_platform.jpg\n",
            "[%] File Downloaded !\n",
            "\n",
            "[%] Downloading Image #4 from https://www.nps.gov/zion/planyourvisit/images/subwayweb.jpg\n",
            "[%] File Downloaded !\n",
            "\n",
            "[%] Downloading Image #5 from https://cdn.wallpapersafari.com/3/47/hYXMvn.jpg\n",
            "[%] File Downloaded !\n",
            "\n",
            "[%] Downloading Image #6 from https://www.nps.gov/gree/planyourvisit/images/Fall-colors-in-the-sweetgum-Picnic-900-x-600.jpg\n",
            "[%] File Downloaded !\n",
            "\n",
            "[%] Downloading Image #7 from https://cdn.msisurfaces.com/images/backsplash/large/dove-gray.jpg\n",
            "[%] File Downloaded !\n",
            "\n",
            "[%] Downloading Image #8 from https://images.victoriaplum.com/vp_prod_images/0fe95890-6bb6-49cc-85f5-c2011d166f0d.jpg?auto=format%2Ccompress&amp;q=55&amp;w=600\n",
            "[%] File Downloaded !\n",
            "\n",
            "[%] Downloading Image #9 from https://assets3.thrillist.com/v1/image/2853682/1200x600/scale;\n",
            "[%] File Downloaded !\n",
            "\n",
            "[%] Downloading Image #10 from http://pluspng.com/img-png/seal-animal-png-seal-839.png\n",
            "[%] File Downloaded !\n",
            "\n",
            "[%] Downloading Image #11 from https://clipartart.com/images/escape-from-tarkov-clipart-1.png\n",
            "[%] File Downloaded !\n",
            "\n",
            "[%] Downloading Image #12 from http://3.bp.blogspot.com/_annTPGBcsB4/Sl03XkdNZEI/AAAAAAAACfo/5mKdwtn9sTg/s400/DSCI0320.jpg\n",
            "[%] File Downloaded !\n",
            "\n",
            "\n",
            "\n",
            "[!!]Indexing page: 2\n",
            "\n",
            "[%] Indexed 12 Images on Page 2.\n",
            "\n",
            "===============================================\n",
            "\n",
            "[%] Downloading Image #13 from https://i.ytimg.com/vi/-FWMoErw4DE/maxresdefault.jpg\n",
            "[%] File Downloaded !\n",
            "\n",
            "[%] Downloading Image #14 from http://jigsawpuzzles.online/king-include/uploads/london-tube-subway-metro-logo-underground-3690713820.jpg\n",
            "[%] File Downloaded !\n",
            "\n",
            "[%] Downloading Image #15 from https://upload.wikimedia.org/wikipedia/commons/thumb/1/1d/Komsomolskaya-KL_MosMetro_station_02-2015_platform.jpg/1920px-Komsomolskaya-KL_MosMetro_station_02-2015_platform.jpg\n",
            "[%] File Downloaded !\n",
            "\n",
            "[%] Downloading Image #16 from https://www.nps.gov/zion/planyourvisit/images/subwayweb.jpg\n",
            "[%] File Downloaded !\n",
            "\n",
            "[%] Downloading Image #17 from https://cdn.wallpapersafari.com/3/47/hYXMvn.jpg\n",
            "[%] File Downloaded !\n",
            "\n",
            "[%] Downloading Image #18 from https://www.nps.gov/gree/planyourvisit/images/Fall-colors-in-the-sweetgum-Picnic-900-x-600.jpg\n",
            "[%] File Downloaded !\n",
            "\n",
            "[%] Downloading Image #19 from https://cdn.msisurfaces.com/images/backsplash/large/dove-gray.jpg\n",
            "[%] File Downloaded !\n",
            "\n",
            "[%] Downloading Image #20 from https://images.victoriaplum.com/vp_prod_images/0fe95890-6bb6-49cc-85f5-c2011d166f0d.jpg?auto=format%2Ccompress&amp;q=55&amp;w=600\n",
            "[%] File Downloaded !\n",
            "\n",
            "[%] Downloading Image #21 from https://assets3.thrillist.com/v1/image/2853682/1200x600/scale;\n",
            "[%] File Downloaded !\n",
            "\n",
            "[%] Downloading Image #22 from http://pluspng.com/img-png/seal-animal-png-seal-839.png\n",
            "[%] File Downloaded !\n",
            "\n",
            "[%] Downloading Image #23 from https://clipartart.com/images/escape-from-tarkov-clipart-1.png\n",
            "[%] File Downloaded !\n",
            "\n",
            "[%] Downloading Image #24 from http://3.bp.blogspot.com/_annTPGBcsB4/Sl03XkdNZEI/AAAAAAAACfo/5mKdwtn9sTg/s400/DSCI0320.jpg\n",
            "[%] File Downloaded !\n",
            "\n",
            "\n",
            "\n",
            "[!!]Indexing page: 3\n",
            "\n",
            "[%] Indexed 11 Images on Page 3.\n",
            "\n",
            "===============================================\n",
            "\n",
            "[%] Downloading Image #25 from http://jigsawpuzzles.online/king-include/uploads/london-tube-subway-metro-logo-underground-3690713820.jpg\n",
            "[%] File Downloaded !\n",
            "\n",
            "[%] Downloading Image #26 from https://upload.wikimedia.org/wikipedia/commons/thumb/1/1d/Komsomolskaya-KL_MosMetro_station_02-2015_platform.jpg/1920px-Komsomolskaya-KL_MosMetro_station_02-2015_platform.jpg\n",
            "[%] File Downloaded !\n",
            "\n",
            "[%] Downloading Image #27 from https://www.nps.gov/zion/planyourvisit/images/subwayweb.jpg\n",
            "[%] File Downloaded !\n",
            "\n",
            "[%] Downloading Image #28 from https://cdn.wallpapersafari.com/3/47/hYXMvn.jpg\n",
            "[%] File Downloaded !\n",
            "\n",
            "[%] Downloading Image #29 from https://www.nps.gov/gree/planyourvisit/images/Fall-colors-in-the-sweetgum-Picnic-900-x-600.jpg\n",
            "[%] File Downloaded !\n",
            "\n",
            "[%] Downloading Image #30 from https://cdn.msisurfaces.com/images/backsplash/large/dove-gray.jpg\n",
            "[%] File Downloaded !\n",
            "\n",
            "\n",
            "\n",
            "[%] Done. Downloaded 30 images.\n",
            "\n",
            "===============================================\n",
            "\n",
            "time: 9.72 s (started: 2021-03-28 15:35:20 +00:00)\n"
          ],
          "name": "stdout"
        }
      ]
    },
    {
      "cell_type": "code",
      "metadata": {
        "colab": {
          "base_uri": "https://localhost:8080/"
        },
        "id": "8EAYC73cay7G",
        "outputId": "37aff8ad-d453-4793-ba1b-061ed6235487"
      },
      "source": [
        "# Downloading Images for KFC Logo\n",
        "\n",
        "downloader.download(\"KFC Logo\",limit=30,output_dir='images',\n",
        "                    adult_filter_off=True)"
      ],
      "execution_count": null,
      "outputs": [
        {
          "output_type": "stream",
          "text": [
            "\n",
            "\n",
            "[!!]Indexing page: 1\n",
            "\n",
            "[%] Indexed 12 Images on Page 1.\n",
            "\n",
            "===============================================\n",
            "\n",
            "[%] Downloading Image #1 from https://4.bp.blogspot.com/-bXEaK-o3HMU/T_6cldHCg1I/AAAAAAAABfw/A_ObrrMa1uA/s1600/255294_414654238578499_1089756614_n.jpg\n",
            "[%] File Downloaded !\n",
            "\n",
            "[%] Downloading Image #2 from https://thumbs.dreamstime.com/b/kfc-sign-restaurant-big-logo-blue-sky-32026274.jpg\n",
            "[%] File Downloaded !\n",
            "\n",
            "[%] Downloading Image #3 from https://i.ytimg.com/vi/dE7DM-hXP_4/maxresdefault.jpg\n",
            "[%] File Downloaded !\n",
            "\n",
            "[%] Downloading Image #4 from https://www.agenciatelling.com/wp-content/uploads/2016/05/logo-kfc-antes-despues.jpg\n",
            "[%] File Downloaded !\n",
            "\n",
            "[%] Downloading Image #5 from https://i.ytimg.com/vi/CD3o-g5bUSg/maxresdefault.jpg\n",
            "[%] File Downloaded !\n",
            "\n",
            "[%] Downloading Image #6 from https://fastfoodinusa.com/templates/uploads/category_icon/big/Churches-Chicken_logo.png\n",
            "[%] File Downloaded !\n",
            "\n",
            "[%] Downloading Image #7 from https://thumbs.dreamstime.com/z/customers-buying-fast-food-products-inside-kfc-kentucky-fried-chicken-restaurant-blue-tables-red-chairs-33197766.jpg\n",
            "[%] File Downloaded !\n",
            "\n",
            "[%] Downloading Image #8 from https://cdn.freebiesupply.com/logos/thumbs/2x/kpmg-1-logo.png\n",
            "[%] File Downloaded !\n",
            "\n",
            "[%] Downloading Image #9 from http://www.teevault.com/wp-content/uploads/2010/07/cannabis-adidas-t-shirt-300x199.jpg\n",
            "[Error]Invalid image, not saving http://www.teevault.com/wp-content/uploads/2010/07/cannabis-adidas-t-shirt-300x199.jpg\n",
            "\n",
            "[!] Issue getting: http://www.teevault.com/wp-content/uploads/2010/07/cannabis-adidas-t-shirt-300x199.jpg\n",
            "[!] Error:: No active exception to reraise\n",
            "[%] Downloading Image #9 from https://swnz.co.nz/wp-content/uploads/2017/12/KFC_SpecEd05.jpg\n",
            "[%] File Downloaded !\n",
            "\n",
            "[%] Downloading Image #10 from http://cdn.wallpapersafari.com/62/28/I2jTRm.jpg\n",
            "[%] File Downloaded !\n",
            "\n",
            "[%] Downloading Image #11 from http://1000logos.net/wp-content/uploads/2017/07/Snapchat.jpg\n",
            "[Error]Invalid image, not saving http://1000logos.net/wp-content/uploads/2017/07/Snapchat.jpg\n",
            "\n",
            "[!] Issue getting: http://1000logos.net/wp-content/uploads/2017/07/Snapchat.jpg\n",
            "[!] Error:: No active exception to reraise\n",
            "\n",
            "\n",
            "[!!]Indexing page: 2\n",
            "\n",
            "[%] Indexed 12 Images on Page 2.\n",
            "\n",
            "===============================================\n",
            "\n",
            "[%] Downloading Image #11 from https://4.bp.blogspot.com/-bXEaK-o3HMU/T_6cldHCg1I/AAAAAAAABfw/A_ObrrMa1uA/s1600/255294_414654238578499_1089756614_n.jpg\n",
            "[%] File Downloaded !\n",
            "\n",
            "[%] Downloading Image #12 from https://thumbs.dreamstime.com/b/kfc-sign-restaurant-big-logo-blue-sky-32026274.jpg\n",
            "[%] File Downloaded !\n",
            "\n",
            "[%] Downloading Image #13 from https://i.ytimg.com/vi/dE7DM-hXP_4/maxresdefault.jpg\n",
            "[%] File Downloaded !\n",
            "\n",
            "[%] Downloading Image #14 from https://www.agenciatelling.com/wp-content/uploads/2016/05/logo-kfc-antes-despues.jpg\n",
            "[%] File Downloaded !\n",
            "\n",
            "[%] Downloading Image #15 from https://i.ytimg.com/vi/CD3o-g5bUSg/maxresdefault.jpg\n",
            "[%] File Downloaded !\n",
            "\n",
            "[%] Downloading Image #16 from https://fastfoodinusa.com/templates/uploads/category_icon/big/Churches-Chicken_logo.png\n",
            "[%] File Downloaded !\n",
            "\n",
            "[%] Downloading Image #17 from https://thumbs.dreamstime.com/z/customers-buying-fast-food-products-inside-kfc-kentucky-fried-chicken-restaurant-blue-tables-red-chairs-33197766.jpg\n",
            "[%] File Downloaded !\n",
            "\n",
            "[%] Downloading Image #18 from https://cdn.freebiesupply.com/logos/thumbs/2x/kpmg-1-logo.png\n",
            "[%] File Downloaded !\n",
            "\n",
            "[%] Downloading Image #19 from http://www.teevault.com/wp-content/uploads/2010/07/cannabis-adidas-t-shirt-300x199.jpg\n",
            "[Error]Invalid image, not saving http://www.teevault.com/wp-content/uploads/2010/07/cannabis-adidas-t-shirt-300x199.jpg\n",
            "\n",
            "[!] Issue getting: http://www.teevault.com/wp-content/uploads/2010/07/cannabis-adidas-t-shirt-300x199.jpg\n",
            "[!] Error:: No active exception to reraise\n",
            "[%] Downloading Image #19 from https://swnz.co.nz/wp-content/uploads/2017/12/KFC_SpecEd05.jpg\n",
            "[%] File Downloaded !\n",
            "\n",
            "[%] Downloading Image #20 from http://cdn.wallpapersafari.com/62/28/I2jTRm.jpg\n",
            "[%] File Downloaded !\n",
            "\n",
            "[%] Downloading Image #21 from http://1000logos.net/wp-content/uploads/2017/07/Snapchat.jpg\n",
            "[Error]Invalid image, not saving http://1000logos.net/wp-content/uploads/2017/07/Snapchat.jpg\n",
            "\n",
            "[!] Issue getting: http://1000logos.net/wp-content/uploads/2017/07/Snapchat.jpg\n",
            "[!] Error:: No active exception to reraise\n",
            "\n",
            "\n",
            "[!!]Indexing page: 3\n",
            "\n",
            "[%] Indexed 11 Images on Page 3.\n",
            "\n",
            "===============================================\n",
            "\n",
            "[%] Downloading Image #21 from https://thumbs.dreamstime.com/b/kfc-sign-restaurant-big-logo-blue-sky-32026274.jpg\n",
            "[%] File Downloaded !\n",
            "\n",
            "[%] Downloading Image #22 from https://i.ytimg.com/vi/dE7DM-hXP_4/maxresdefault.jpg\n",
            "[%] File Downloaded !\n",
            "\n",
            "[%] Downloading Image #23 from https://www.agenciatelling.com/wp-content/uploads/2016/05/logo-kfc-antes-despues.jpg\n",
            "[%] File Downloaded !\n",
            "\n",
            "[%] Downloading Image #24 from https://i.ytimg.com/vi/CD3o-g5bUSg/maxresdefault.jpg\n",
            "[%] File Downloaded !\n",
            "\n",
            "[%] Downloading Image #25 from https://fastfoodinusa.com/templates/uploads/category_icon/big/Churches-Chicken_logo.png\n",
            "[%] File Downloaded !\n",
            "\n",
            "[%] Downloading Image #26 from https://thumbs.dreamstime.com/z/customers-buying-fast-food-products-inside-kfc-kentucky-fried-chicken-restaurant-blue-tables-red-chairs-33197766.jpg\n",
            "[%] File Downloaded !\n",
            "\n",
            "[%] Downloading Image #27 from https://cdn.freebiesupply.com/logos/thumbs/2x/kpmg-1-logo.png\n",
            "[%] File Downloaded !\n",
            "\n",
            "[%] Downloading Image #28 from http://www.teevault.com/wp-content/uploads/2010/07/cannabis-adidas-t-shirt-300x199.jpg\n",
            "[Error]Invalid image, not saving http://www.teevault.com/wp-content/uploads/2010/07/cannabis-adidas-t-shirt-300x199.jpg\n",
            "\n",
            "[!] Issue getting: http://www.teevault.com/wp-content/uploads/2010/07/cannabis-adidas-t-shirt-300x199.jpg\n",
            "[!] Error:: No active exception to reraise\n",
            "[%] Downloading Image #28 from https://swnz.co.nz/wp-content/uploads/2017/12/KFC_SpecEd05.jpg\n",
            "[%] File Downloaded !\n",
            "\n",
            "[%] Downloading Image #29 from http://cdn.wallpapersafari.com/62/28/I2jTRm.jpg\n",
            "[%] File Downloaded !\n",
            "\n",
            "[%] Downloading Image #30 from http://1000logos.net/wp-content/uploads/2017/07/Snapchat.jpg\n",
            "[Error]Invalid image, not saving http://1000logos.net/wp-content/uploads/2017/07/Snapchat.jpg\n",
            "\n",
            "[!] Issue getting: http://1000logos.net/wp-content/uploads/2017/07/Snapchat.jpg\n",
            "[!] Error:: No active exception to reraise\n",
            "\n",
            "\n",
            "[!!]Indexing page: 4\n",
            "\n",
            "[%] Indexed 10 Images on Page 4.\n",
            "\n",
            "===============================================\n",
            "\n",
            "[%] Downloading Image #30 from https://i.ytimg.com/vi/dE7DM-hXP_4/maxresdefault.jpg\n",
            "[%] File Downloaded !\n",
            "\n",
            "\n",
            "\n",
            "[%] Done. Downloaded 30 images.\n",
            "\n",
            "===============================================\n",
            "\n",
            "time: 10.7 s (started: 2021-03-28 15:35:32 +00:00)\n"
          ],
          "name": "stdout"
        }
      ]
    },
    {
      "cell_type": "code",
      "metadata": {
        "colab": {
          "base_uri": "https://localhost:8080/"
        },
        "id": "FlOxt4jgaznR",
        "outputId": "5a5e294a-efbc-4ab5-8483-c8967ef927db"
      },
      "source": [
        "# Downloading Images for Pizza Hut Logo\n",
        "\n",
        "downloader.download(\"Pizza Hut Logo\",limit=30,output_dir='images',\n",
        "                    adult_filter_off=True)"
      ],
      "execution_count": null,
      "outputs": [
        {
          "output_type": "stream",
          "text": [
            "\n",
            "\n",
            "[!!]Indexing page: 1\n",
            "\n",
            "[%] Indexed 12 Images on Page 1.\n",
            "\n",
            "===============================================\n",
            "\n",
            "[%] Downloading Image #1 from https://upload.wikimedia.org/wikipedia/commons/thumb/a/a0/Pizza_Hut_international_logo%2C_2008–2016.svg/1200px-Pizza_Hut_international_logo%2C_2008–2016.svg.png\n",
            "[!] Issue getting: https://upload.wikimedia.org/wikipedia/commons/thumb/a/a0/Pizza_Hut_international_logo%2C_2008–2016.svg/1200px-Pizza_Hut_international_logo%2C_2008–2016.svg.png\n",
            "[!] Error:: 'ascii' codec can't encode character '\\u2013' in position 70: ordinal not in range(128)\n",
            "[%] Downloading Image #1 from https://money.cnn.com/2001/05/02/companies/space_advertising/pizza.jpg\n",
            "[%] File Downloaded !\n",
            "\n",
            "[%] Downloading Image #2 from https://i.ytimg.com/vi/AELoCNlcKWE/maxresdefault.jpg\n",
            "[%] File Downloaded !\n",
            "\n",
            "[%] Downloading Image #3 from https://i.ytimg.com/vi/ientHpVk_9Y/maxresdefault.jpg\n",
            "[%] File Downloaded !\n",
            "\n",
            "[%] Downloading Image #4 from https://www.uvu.edu/dining/images/locations/cupbop-logo.jpg\n",
            "[%] File Downloaded !\n",
            "\n",
            "[%] Downloading Image #5 from http://www.nrn.com/sites/nrn.com/files/zaxbys-logo-2015-promo_0.png\n",
            "[%] File Downloaded !\n",
            "\n",
            "[%] Downloading Image #6 from https://cdn.vox-cdn.com/thumbor/zauoj_DlAzUo3xmr4caqu6xfDLU=/0x166:4000x2833/1200x800/filters:focal(0x166:4000x2833)/cdn.vox-cdn.com/uploads/chorus_image/image/42854322/Cheese-and-Tomato-Pizza-Dominos.0.0.jpg\n",
            "[%] File Downloaded !\n",
            "\n",
            "[%] Downloading Image #7 from https://pbs.twimg.com/media/DYWDe-hWsAAJL0g.jpg:large\n",
            "[%] File Downloaded !\n",
            "\n",
            "[%] Downloading Image #8 from https://cdn.freebiesupply.com/logos/thumbs/2x/pennzoil-1-logo.png\n",
            "[%] File Downloaded !\n",
            "\n",
            "[%] Downloading Image #9 from http://www.airpros.org/wp-content/uploads/2013/04/WaffleHouse-01-637x424.png\n",
            "[%] File Downloaded !\n",
            "\n",
            "[%] Downloading Image #10 from https://web3mantra.com/wp-content/uploads/2011/07/Coffee.jpg\n",
            "[%] File Downloaded !\n",
            "\n",
            "[%] Downloading Image #11 from https://1000marcas.net/wp-content/uploads/2020/03/Taco-Bell-símbolo.jpg\n",
            "[!] Issue getting: https://1000marcas.net/wp-content/uploads/2020/03/Taco-Bell-símbolo.jpg\n",
            "[!] Error:: 'ascii' codec can't encode character '\\xed' in position 43: ordinal not in range(128)\n",
            "\n",
            "\n",
            "[!!]Indexing page: 2\n",
            "\n",
            "[%] Indexed 12 Images on Page 2.\n",
            "\n",
            "===============================================\n",
            "\n",
            "[%] Downloading Image #11 from https://upload.wikimedia.org/wikipedia/commons/thumb/a/a0/Pizza_Hut_international_logo%2C_2008–2016.svg/1200px-Pizza_Hut_international_logo%2C_2008–2016.svg.png\n",
            "[!] Issue getting: https://upload.wikimedia.org/wikipedia/commons/thumb/a/a0/Pizza_Hut_international_logo%2C_2008–2016.svg/1200px-Pizza_Hut_international_logo%2C_2008–2016.svg.png\n",
            "[!] Error:: 'ascii' codec can't encode character '\\u2013' in position 70: ordinal not in range(128)\n",
            "[%] Downloading Image #11 from https://money.cnn.com/2001/05/02/companies/space_advertising/pizza.jpg\n",
            "[%] File Downloaded !\n",
            "\n",
            "[%] Downloading Image #12 from https://i.ytimg.com/vi/AELoCNlcKWE/maxresdefault.jpg\n",
            "[%] File Downloaded !\n",
            "\n",
            "[%] Downloading Image #13 from https://i.ytimg.com/vi/ientHpVk_9Y/maxresdefault.jpg\n",
            "[%] File Downloaded !\n",
            "\n",
            "[%] Downloading Image #14 from https://www.uvu.edu/dining/images/locations/cupbop-logo.jpg\n",
            "[%] File Downloaded !\n",
            "\n",
            "[%] Downloading Image #15 from http://www.nrn.com/sites/nrn.com/files/zaxbys-logo-2015-promo_0.png\n",
            "[%] File Downloaded !\n",
            "\n",
            "[%] Downloading Image #16 from https://cdn.vox-cdn.com/thumbor/zauoj_DlAzUo3xmr4caqu6xfDLU=/0x166:4000x2833/1200x800/filters:focal(0x166:4000x2833)/cdn.vox-cdn.com/uploads/chorus_image/image/42854322/Cheese-and-Tomato-Pizza-Dominos.0.0.jpg\n",
            "[%] File Downloaded !\n",
            "\n",
            "[%] Downloading Image #17 from https://pbs.twimg.com/media/DYWDe-hWsAAJL0g.jpg:large\n",
            "[%] File Downloaded !\n",
            "\n",
            "[%] Downloading Image #18 from https://cdn.freebiesupply.com/logos/thumbs/2x/pennzoil-1-logo.png\n",
            "[%] File Downloaded !\n",
            "\n",
            "[%] Downloading Image #19 from http://www.airpros.org/wp-content/uploads/2013/04/WaffleHouse-01-637x424.png\n",
            "[%] File Downloaded !\n",
            "\n",
            "[%] Downloading Image #20 from https://web3mantra.com/wp-content/uploads/2011/07/Coffee.jpg\n",
            "[%] File Downloaded !\n",
            "\n",
            "[%] Downloading Image #21 from https://1000marcas.net/wp-content/uploads/2020/03/Taco-Bell-símbolo.jpg\n",
            "[!] Issue getting: https://1000marcas.net/wp-content/uploads/2020/03/Taco-Bell-símbolo.jpg\n",
            "[!] Error:: 'ascii' codec can't encode character '\\xed' in position 43: ordinal not in range(128)\n",
            "\n",
            "\n",
            "[!!]Indexing page: 3\n",
            "\n",
            "[%] Indexed 11 Images on Page 3.\n",
            "\n",
            "===============================================\n",
            "\n",
            "[%] Downloading Image #21 from https://money.cnn.com/2001/05/02/companies/space_advertising/pizza.jpg\n",
            "[%] File Downloaded !\n",
            "\n",
            "[%] Downloading Image #22 from https://i.ytimg.com/vi/AELoCNlcKWE/maxresdefault.jpg\n",
            "[%] File Downloaded !\n",
            "\n",
            "[%] Downloading Image #23 from https://i.ytimg.com/vi/ientHpVk_9Y/maxresdefault.jpg\n",
            "[%] File Downloaded !\n",
            "\n",
            "[%] Downloading Image #24 from https://www.uvu.edu/dining/images/locations/cupbop-logo.jpg\n",
            "[%] File Downloaded !\n",
            "\n",
            "[%] Downloading Image #25 from http://www.nrn.com/sites/nrn.com/files/zaxbys-logo-2015-promo_0.png\n",
            "[%] File Downloaded !\n",
            "\n",
            "[%] Downloading Image #26 from https://cdn.vox-cdn.com/thumbor/zauoj_DlAzUo3xmr4caqu6xfDLU=/0x166:4000x2833/1200x800/filters:focal(0x166:4000x2833)/cdn.vox-cdn.com/uploads/chorus_image/image/42854322/Cheese-and-Tomato-Pizza-Dominos.0.0.jpg\n",
            "[%] File Downloaded !\n",
            "\n",
            "[%] Downloading Image #27 from https://pbs.twimg.com/media/DYWDe-hWsAAJL0g.jpg:large\n",
            "[%] File Downloaded !\n",
            "\n",
            "[%] Downloading Image #28 from https://cdn.freebiesupply.com/logos/thumbs/2x/pennzoil-1-logo.png\n",
            "[%] File Downloaded !\n",
            "\n",
            "[%] Downloading Image #29 from http://www.airpros.org/wp-content/uploads/2013/04/WaffleHouse-01-637x424.png\n",
            "[%] File Downloaded !\n",
            "\n",
            "[%] Downloading Image #30 from https://web3mantra.com/wp-content/uploads/2011/07/Coffee.jpg\n",
            "[%] File Downloaded !\n",
            "\n",
            "\n",
            "\n",
            "[%] Done. Downloaded 30 images.\n",
            "\n",
            "===============================================\n",
            "\n",
            "time: 6.98 s (started: 2021-03-28 15:35:47 +00:00)\n"
          ],
          "name": "stdout"
        }
      ]
    },
    {
      "cell_type": "code",
      "metadata": {
        "colab": {
          "base_uri": "https://localhost:8080/"
        },
        "id": "tHk0v2qClRwj",
        "outputId": "58bad0d9-bbde-47fb-b34f-86b5def292ec"
      },
      "source": [
        "# Downloading Images for Burger King Logo\n",
        "\n",
        "downloader.download(\"Burger King Logo\",limit=30,output_dir='images',\n",
        "                    adult_filter_off=True)"
      ],
      "execution_count": null,
      "outputs": [
        {
          "output_type": "stream",
          "text": [
            "\n",
            "\n",
            "[!!]Indexing page: 1\n",
            "\n",
            "[%] Indexed 12 Images on Page 1.\n",
            "\n",
            "===============================================\n",
            "\n",
            "[%] Downloading Image #1 from https://www.foodbusinessnews.net/ext/resources/2019/12/BBQBurgers_Lead.jpg?height=635&amp;t=1576245673&amp;width=1200\n",
            "[%] File Downloaded !\n",
            "\n",
            "[%] Downloading Image #2 from https://soyummy.com/wp-content/uploads/2018/01/Font-McDonalds-Logo-e1516044755852.png\n",
            "[%] File Downloaded !\n",
            "\n",
            "[%] Downloading Image #3 from https://1000marcas.net/wp-content/uploads/2019/12/Burger-King-emblema.jpg\n",
            "[Error]Invalid image, not saving https://1000marcas.net/wp-content/uploads/2019/12/Burger-King-emblema.jpg\n",
            "\n",
            "[!] Issue getting: https://1000marcas.net/wp-content/uploads/2019/12/Burger-King-emblema.jpg\n",
            "[!] Error:: No active exception to reraise\n",
            "[%] Downloading Image #3 from https://static.businessinsider.com/image/51f7c4c66bb3f7f52a00000d/image.jpg\n",
            "[%] File Downloaded !\n",
            "\n",
            "[%] Downloading Image #4 from http://editorial.designtaxi.com/editorial-images/news-BKtrollsMac281016/2-BurgerKing-Trolls-McDonalds-Halloween-Prank-2016.png\n",
            "[%] File Downloaded !\n",
            "\n",
            "[%] Downloading Image #5 from https://1000logos.net/wp-content/uploads/2019/07/Gold-Coast-Titans-logo-rugby.jpg\n",
            "[Error]Invalid image, not saving https://1000logos.net/wp-content/uploads/2019/07/Gold-Coast-Titans-logo-rugby.jpg\n",
            "\n",
            "[!] Issue getting: https://1000logos.net/wp-content/uploads/2019/07/Gold-Coast-Titans-logo-rugby.jpg\n",
            "[!] Error:: No active exception to reraise\n",
            "[%] Downloading Image #5 from https://i.ytimg.com/vi/qEoOKkgDZGQ/hqdefault.jpg\n",
            "[%] File Downloaded !\n",
            "\n",
            "[%] Downloading Image #6 from https://digitalsynopsis.com/wp-content/uploads/2017/10/famous-brand-logos-drawn-from-memory-dominos-drawings.png\n",
            "[%] File Downloaded !\n",
            "\n",
            "[%] Downloading Image #7 from https://catracalivre.com.br/wp-content/uploads/2020/03/mcdonalds-separados.jpg\n",
            "[%] File Downloaded !\n",
            "\n",
            "[%] Downloading Image #8 from https://image.isu.pub/170217001757-bc646742183f0817cfb2d2dae8e022a6/jpg/page_1_thumb_large.jpg\n",
            "[%] File Downloaded !\n",
            "\n",
            "[%] Downloading Image #9 from https://www.eleconomista.net/__export/1586212748022/sites/prensagrafica/img/2020/04/06/shutterstock_1672818163a.jpg_2024461655.jpg\n",
            "[%] File Downloaded !\n",
            "\n",
            "[%] Downloading Image #10 from https://1000marcas.net/wp-content/uploads/2020/01/Dominos-Pizza-simbolo.jpg\n",
            "[Error]Invalid image, not saving https://1000marcas.net/wp-content/uploads/2020/01/Dominos-Pizza-simbolo.jpg\n",
            "\n",
            "[!] Issue getting: https://1000marcas.net/wp-content/uploads/2020/01/Dominos-Pizza-simbolo.jpg\n",
            "[!] Error:: No active exception to reraise\n",
            "\n",
            "\n",
            "[!!]Indexing page: 2\n",
            "\n",
            "[%] Indexed 12 Images on Page 2.\n",
            "\n",
            "===============================================\n",
            "\n",
            "[%] Downloading Image #10 from https://www.foodbusinessnews.net/ext/resources/2019/12/BBQBurgers_Lead.jpg?height=635&amp;t=1576245673&amp;width=1200\n",
            "[%] File Downloaded !\n",
            "\n",
            "[%] Downloading Image #11 from https://soyummy.com/wp-content/uploads/2018/01/Font-McDonalds-Logo-e1516044755852.png\n",
            "[%] File Downloaded !\n",
            "\n",
            "[%] Downloading Image #12 from https://1000marcas.net/wp-content/uploads/2019/12/Burger-King-emblema.jpg\n",
            "[Error]Invalid image, not saving https://1000marcas.net/wp-content/uploads/2019/12/Burger-King-emblema.jpg\n",
            "\n",
            "[!] Issue getting: https://1000marcas.net/wp-content/uploads/2019/12/Burger-King-emblema.jpg\n",
            "[!] Error:: No active exception to reraise\n",
            "[%] Downloading Image #12 from https://static.businessinsider.com/image/51f7c4c66bb3f7f52a00000d/image.jpg\n",
            "[%] File Downloaded !\n",
            "\n",
            "[%] Downloading Image #13 from http://editorial.designtaxi.com/editorial-images/news-BKtrollsMac281016/2-BurgerKing-Trolls-McDonalds-Halloween-Prank-2016.png\n",
            "[%] File Downloaded !\n",
            "\n",
            "[%] Downloading Image #14 from https://1000logos.net/wp-content/uploads/2019/07/Gold-Coast-Titans-logo-rugby.jpg\n",
            "[Error]Invalid image, not saving https://1000logos.net/wp-content/uploads/2019/07/Gold-Coast-Titans-logo-rugby.jpg\n",
            "\n",
            "[!] Issue getting: https://1000logos.net/wp-content/uploads/2019/07/Gold-Coast-Titans-logo-rugby.jpg\n",
            "[!] Error:: No active exception to reraise\n",
            "[%] Downloading Image #14 from https://i.ytimg.com/vi/qEoOKkgDZGQ/hqdefault.jpg\n",
            "[%] File Downloaded !\n",
            "\n",
            "[%] Downloading Image #15 from https://digitalsynopsis.com/wp-content/uploads/2017/10/famous-brand-logos-drawn-from-memory-dominos-drawings.png\n",
            "[%] File Downloaded !\n",
            "\n",
            "[%] Downloading Image #16 from https://catracalivre.com.br/wp-content/uploads/2020/03/mcdonalds-separados.jpg\n",
            "[%] File Downloaded !\n",
            "\n",
            "[%] Downloading Image #17 from https://image.isu.pub/170217001757-bc646742183f0817cfb2d2dae8e022a6/jpg/page_1_thumb_large.jpg\n",
            "[%] File Downloaded !\n",
            "\n",
            "[%] Downloading Image #18 from https://www.eleconomista.net/__export/1586212748022/sites/prensagrafica/img/2020/04/06/shutterstock_1672818163a.jpg_2024461655.jpg\n",
            "[%] File Downloaded !\n",
            "\n",
            "[%] Downloading Image #19 from https://1000marcas.net/wp-content/uploads/2020/01/Dominos-Pizza-simbolo.jpg\n",
            "[Error]Invalid image, not saving https://1000marcas.net/wp-content/uploads/2020/01/Dominos-Pizza-simbolo.jpg\n",
            "\n",
            "[!] Issue getting: https://1000marcas.net/wp-content/uploads/2020/01/Dominos-Pizza-simbolo.jpg\n",
            "[!] Error:: No active exception to reraise\n",
            "\n",
            "\n",
            "[!!]Indexing page: 3\n",
            "\n",
            "[%] Indexed 11 Images on Page 3.\n",
            "\n",
            "===============================================\n",
            "\n",
            "[%] Downloading Image #19 from https://soyummy.com/wp-content/uploads/2018/01/Font-McDonalds-Logo-e1516044755852.png\n",
            "[%] File Downloaded !\n",
            "\n",
            "[%] Downloading Image #20 from https://1000marcas.net/wp-content/uploads/2019/12/Burger-King-emblema.jpg\n",
            "[Error]Invalid image, not saving https://1000marcas.net/wp-content/uploads/2019/12/Burger-King-emblema.jpg\n",
            "\n",
            "[!] Issue getting: https://1000marcas.net/wp-content/uploads/2019/12/Burger-King-emblema.jpg\n",
            "[!] Error:: No active exception to reraise\n",
            "[%] Downloading Image #20 from https://static.businessinsider.com/image/51f7c4c66bb3f7f52a00000d/image.jpg\n",
            "[%] File Downloaded !\n",
            "\n",
            "[%] Downloading Image #21 from http://editorial.designtaxi.com/editorial-images/news-BKtrollsMac281016/2-BurgerKing-Trolls-McDonalds-Halloween-Prank-2016.png\n",
            "[%] File Downloaded !\n",
            "\n",
            "[%] Downloading Image #22 from https://1000logos.net/wp-content/uploads/2019/07/Gold-Coast-Titans-logo-rugby.jpg\n",
            "[Error]Invalid image, not saving https://1000logos.net/wp-content/uploads/2019/07/Gold-Coast-Titans-logo-rugby.jpg\n",
            "\n",
            "[!] Issue getting: https://1000logos.net/wp-content/uploads/2019/07/Gold-Coast-Titans-logo-rugby.jpg\n",
            "[!] Error:: No active exception to reraise\n",
            "[%] Downloading Image #22 from https://i.ytimg.com/vi/qEoOKkgDZGQ/hqdefault.jpg\n",
            "[%] File Downloaded !\n",
            "\n",
            "[%] Downloading Image #23 from https://digitalsynopsis.com/wp-content/uploads/2017/10/famous-brand-logos-drawn-from-memory-dominos-drawings.png\n",
            "[%] File Downloaded !\n",
            "\n",
            "[%] Downloading Image #24 from https://catracalivre.com.br/wp-content/uploads/2020/03/mcdonalds-separados.jpg\n",
            "[%] File Downloaded !\n",
            "\n",
            "[%] Downloading Image #25 from https://image.isu.pub/170217001757-bc646742183f0817cfb2d2dae8e022a6/jpg/page_1_thumb_large.jpg\n",
            "[%] File Downloaded !\n",
            "\n",
            "[%] Downloading Image #26 from https://www.eleconomista.net/__export/1586212748022/sites/prensagrafica/img/2020/04/06/shutterstock_1672818163a.jpg_2024461655.jpg\n",
            "[%] File Downloaded !\n",
            "\n",
            "[%] Downloading Image #27 from https://1000marcas.net/wp-content/uploads/2020/01/Dominos-Pizza-simbolo.jpg\n",
            "[Error]Invalid image, not saving https://1000marcas.net/wp-content/uploads/2020/01/Dominos-Pizza-simbolo.jpg\n",
            "\n",
            "[!] Issue getting: https://1000marcas.net/wp-content/uploads/2020/01/Dominos-Pizza-simbolo.jpg\n",
            "[!] Error:: No active exception to reraise\n",
            "\n",
            "\n",
            "[!!]Indexing page: 4\n",
            "\n",
            "[%] Indexed 10 Images on Page 4.\n",
            "\n",
            "===============================================\n",
            "\n",
            "[%] Downloading Image #27 from https://1000marcas.net/wp-content/uploads/2019/12/Burger-King-emblema.jpg\n",
            "[Error]Invalid image, not saving https://1000marcas.net/wp-content/uploads/2019/12/Burger-King-emblema.jpg\n",
            "\n",
            "[!] Issue getting: https://1000marcas.net/wp-content/uploads/2019/12/Burger-King-emblema.jpg\n",
            "[!] Error:: No active exception to reraise\n",
            "[%] Downloading Image #27 from https://static.businessinsider.com/image/51f7c4c66bb3f7f52a00000d/image.jpg\n",
            "[%] File Downloaded !\n",
            "\n",
            "[%] Downloading Image #28 from http://editorial.designtaxi.com/editorial-images/news-BKtrollsMac281016/2-BurgerKing-Trolls-McDonalds-Halloween-Prank-2016.png\n",
            "[%] File Downloaded !\n",
            "\n",
            "[%] Downloading Image #29 from https://1000logos.net/wp-content/uploads/2019/07/Gold-Coast-Titans-logo-rugby.jpg\n",
            "[Error]Invalid image, not saving https://1000logos.net/wp-content/uploads/2019/07/Gold-Coast-Titans-logo-rugby.jpg\n",
            "\n",
            "[!] Issue getting: https://1000logos.net/wp-content/uploads/2019/07/Gold-Coast-Titans-logo-rugby.jpg\n",
            "[!] Error:: No active exception to reraise\n",
            "[%] Downloading Image #29 from https://i.ytimg.com/vi/qEoOKkgDZGQ/hqdefault.jpg\n",
            "[%] File Downloaded !\n",
            "\n",
            "[%] Downloading Image #30 from https://digitalsynopsis.com/wp-content/uploads/2017/10/famous-brand-logos-drawn-from-memory-dominos-drawings.png\n",
            "[%] File Downloaded !\n",
            "\n",
            "\n",
            "\n",
            "[%] Done. Downloaded 30 images.\n",
            "\n",
            "===============================================\n",
            "\n",
            "time: 17.3 s (started: 2021-03-28 16:13:43 +00:00)\n"
          ],
          "name": "stdout"
        }
      ]
    },
    {
      "cell_type": "code",
      "metadata": {
        "colab": {
          "base_uri": "https://localhost:8080/"
        },
        "id": "3kwpszs2y1uM",
        "outputId": "94b10c58-33f1-4285-f106-d15200a3b5bb"
      },
      "source": [
        "# Downloading Images for Cafe Coffee Day Logo\n",
        "\n",
        "downloader.download(\"Cafe Coffee Day Logo\",limit=30,output_dir='images',\n",
        "                    adult_filter_off=True)"
      ],
      "execution_count": null,
      "outputs": [
        {
          "output_type": "stream",
          "text": [
            "\n",
            "\n",
            "[!!]Indexing page: 1\n",
            "\n",
            "[%] Indexed 13 Images on Page 1.\n",
            "\n",
            "===============================================\n",
            "\n",
            "[%] Downloading Image #1 from https://images.template.net/wp-content/uploads/2016/08/19111336/Coffee-Logo.jpg\n",
            "[%] File Downloaded !\n",
            "\n",
            "[%] Downloading Image #2 from https://3axis.co/user-images/eo2gkl18.png\n",
            "[%] File Downloaded !\n",
            "\n",
            "[%] Downloading Image #3 from http://www.telegraph.co.uk/content/dam/Travel/galleries/travel/picturegalleries/Culture-Day-21-weird-and-wonderful-things-about-Japan/japan-maid_3490514a.jpg?imwidth=450\n",
            "[%] File Downloaded !\n",
            "\n",
            "[%] Downloading Image #4 from https://digitalsynopsis.com/wp-content/uploads/2016/05/ready-in-an-instant-pronto-cafe-businessman.jpg\n",
            "[%] File Downloaded !\n",
            "\n",
            "[%] Downloading Image #5 from http://static2.businessinsider.com/image/560ee0219dd7cc25008beee6-3033-2275/rtr2tugk.jpg\n",
            "[%] File Downloaded !\n",
            "\n",
            "[%] Downloading Image #6 from https://www.nespresso.com/ncp/res/uploads/recipes/nespresso-recipes-Latte-Heart-by-Nespresso.jpg\n",
            "[!] Issue getting: https://www.nespresso.com/ncp/res/uploads/recipes/nespresso-recipes-Latte-Heart-by-Nespresso.jpg\n",
            "[!] Error:: The read operation timed out\n",
            "[%] Downloading Image #6 from https://2.bp.blogspot.com/-Lnn6j9jlaZY/WXC9-wgzdVI/AAAAAAAAPWg/A-u7MYHpDLgCaztsbi-TgbcxPpNvg2tkgCLcBGAs/s640/at_the_cafe_by_chinchongcha.jpg\n",
            "[%] File Downloaded !\n",
            "\n",
            "[%] Downloading Image #7 from https://cdn.wallpapersafari.com/73/0/6pYTvq.jpg\n",
            "[%] File Downloaded !\n",
            "\n",
            "[%] Downloading Image #8 from https://www.underconsideration.com/brandnew/archives/pelican_rouge_logo.png\n",
            "[%] File Downloaded !\n",
            "\n",
            "[%] Downloading Image #9 from https://www.chalkitupsigns.com/chalkblog/wp-content/uploads/2013/03/magruders2-1024x656.jpg\n",
            "[%] File Downloaded !\n",
            "\n",
            "[%] Downloading Image #10 from https://i.pinimg.com/originals/a4/8b/56/a48b56e2391cd828aeebaf3e7f5575bd.gif\n",
            "[%] File Downloaded !\n",
            "\n",
            "[%] Downloading Image #11 from https://www.bing.com/th/id/OGC.673d56d398ac2e5563bc1192f6a974f2?pid=1.7&amp;rurl=https%3a%2f%2fi.pinimg.com%2foriginals%2fa4%2f8b%2f56%2fa48b56e2391cd828aeebaf3e7f5575bd.gif&amp;ehk=FrosP7ocBu7LLUKgkPiDj68yCvnLVHTiaIaVyyNMPjw%3d\n",
            "[!] Issue getting: https://www.bing.com/th/id/OGC.673d56d398ac2e5563bc1192f6a974f2?pid=1.7&amp;rurl=https%3a%2f%2fi.pinimg.com%2foriginals%2fa4%2f8b%2f56%2fa48b56e2391cd828aeebaf3e7f5575bd.gif&amp;ehk=FrosP7ocBu7LLUKgkPiDj68yCvnLVHTiaIaVyyNMPjw%3d\n",
            "[!] Error:: HTTP Error 404: Not Found\n",
            "[%] Downloading Image #11 from https://www.signsny.com/products/light-box-sign/illuminated-sign-cabinet.jpg\n",
            "[%] File Downloaded !\n",
            "\n",
            "\n",
            "\n",
            "[!!]Indexing page: 2\n",
            "\n",
            "[%] Indexed 13 Images on Page 2.\n",
            "\n",
            "===============================================\n",
            "\n",
            "[%] Downloading Image #12 from https://images.template.net/wp-content/uploads/2016/08/19111336/Coffee-Logo.jpg\n",
            "[%] File Downloaded !\n",
            "\n",
            "[%] Downloading Image #13 from https://3axis.co/user-images/eo2gkl18.png\n",
            "[%] File Downloaded !\n",
            "\n",
            "[%] Downloading Image #14 from http://www.telegraph.co.uk/content/dam/Travel/galleries/travel/picturegalleries/Culture-Day-21-weird-and-wonderful-things-about-Japan/japan-maid_3490514a.jpg?imwidth=450\n",
            "[%] File Downloaded !\n",
            "\n",
            "[%] Downloading Image #15 from https://digitalsynopsis.com/wp-content/uploads/2016/05/ready-in-an-instant-pronto-cafe-businessman.jpg\n",
            "[%] File Downloaded !\n",
            "\n",
            "[%] Downloading Image #16 from http://static2.businessinsider.com/image/560ee0219dd7cc25008beee6-3033-2275/rtr2tugk.jpg\n",
            "[%] File Downloaded !\n",
            "\n",
            "[%] Downloading Image #17 from https://www.nespresso.com/ncp/res/uploads/recipes/nespresso-recipes-Latte-Heart-by-Nespresso.jpg\n",
            "[!] Issue getting: https://www.nespresso.com/ncp/res/uploads/recipes/nespresso-recipes-Latte-Heart-by-Nespresso.jpg\n",
            "[!] Error:: The read operation timed out\n",
            "[%] Downloading Image #17 from https://2.bp.blogspot.com/-Lnn6j9jlaZY/WXC9-wgzdVI/AAAAAAAAPWg/A-u7MYHpDLgCaztsbi-TgbcxPpNvg2tkgCLcBGAs/s640/at_the_cafe_by_chinchongcha.jpg\n",
            "[%] File Downloaded !\n",
            "\n",
            "[%] Downloading Image #18 from https://cdn.wallpapersafari.com/73/0/6pYTvq.jpg\n",
            "[%] File Downloaded !\n",
            "\n",
            "[%] Downloading Image #19 from https://www.underconsideration.com/brandnew/archives/pelican_rouge_logo.png\n",
            "[%] File Downloaded !\n",
            "\n",
            "[%] Downloading Image #20 from https://www.chalkitupsigns.com/chalkblog/wp-content/uploads/2013/03/magruders2-1024x656.jpg\n",
            "[%] File Downloaded !\n",
            "\n",
            "[%] Downloading Image #21 from https://i.pinimg.com/originals/a4/8b/56/a48b56e2391cd828aeebaf3e7f5575bd.gif\n",
            "[%] File Downloaded !\n",
            "\n",
            "[%] Downloading Image #22 from https://www.bing.com/th/id/OGC.673d56d398ac2e5563bc1192f6a974f2?pid=1.7&amp;rurl=https%3a%2f%2fi.pinimg.com%2foriginals%2fa4%2f8b%2f56%2fa48b56e2391cd828aeebaf3e7f5575bd.gif&amp;ehk=FrosP7ocBu7LLUKgkPiDj68yCvnLVHTiaIaVyyNMPjw%3d\n",
            "[!] Issue getting: https://www.bing.com/th/id/OGC.673d56d398ac2e5563bc1192f6a974f2?pid=1.7&amp;rurl=https%3a%2f%2fi.pinimg.com%2foriginals%2fa4%2f8b%2f56%2fa48b56e2391cd828aeebaf3e7f5575bd.gif&amp;ehk=FrosP7ocBu7LLUKgkPiDj68yCvnLVHTiaIaVyyNMPjw%3d\n",
            "[!] Error:: HTTP Error 404: Not Found\n",
            "[%] Downloading Image #22 from https://www.signsny.com/products/light-box-sign/illuminated-sign-cabinet.jpg\n",
            "[%] File Downloaded !\n",
            "\n",
            "\n",
            "\n",
            "[!!]Indexing page: 3\n",
            "\n",
            "[%] Indexed 12 Images on Page 3.\n",
            "\n",
            "===============================================\n",
            "\n",
            "[%] Downloading Image #23 from https://3axis.co/user-images/eo2gkl18.png\n",
            "[%] File Downloaded !\n",
            "\n",
            "[%] Downloading Image #24 from http://www.telegraph.co.uk/content/dam/Travel/galleries/travel/picturegalleries/Culture-Day-21-weird-and-wonderful-things-about-Japan/japan-maid_3490514a.jpg?imwidth=450\n",
            "[%] File Downloaded !\n",
            "\n",
            "[%] Downloading Image #25 from https://digitalsynopsis.com/wp-content/uploads/2016/05/ready-in-an-instant-pronto-cafe-businessman.jpg\n",
            "[%] File Downloaded !\n",
            "\n",
            "[%] Downloading Image #26 from http://static2.businessinsider.com/image/560ee0219dd7cc25008beee6-3033-2275/rtr2tugk.jpg\n",
            "[%] File Downloaded !\n",
            "\n",
            "[%] Downloading Image #27 from https://www.nespresso.com/ncp/res/uploads/recipes/nespresso-recipes-Latte-Heart-by-Nespresso.jpg\n",
            "[!] Issue getting: https://www.nespresso.com/ncp/res/uploads/recipes/nespresso-recipes-Latte-Heart-by-Nespresso.jpg\n",
            "[!] Error:: The read operation timed out\n",
            "[%] Downloading Image #27 from https://2.bp.blogspot.com/-Lnn6j9jlaZY/WXC9-wgzdVI/AAAAAAAAPWg/A-u7MYHpDLgCaztsbi-TgbcxPpNvg2tkgCLcBGAs/s640/at_the_cafe_by_chinchongcha.jpg\n",
            "[%] File Downloaded !\n",
            "\n",
            "[%] Downloading Image #28 from https://cdn.wallpapersafari.com/73/0/6pYTvq.jpg\n",
            "[%] File Downloaded !\n",
            "\n",
            "[%] Downloading Image #29 from https://www.underconsideration.com/brandnew/archives/pelican_rouge_logo.png\n",
            "[%] File Downloaded !\n",
            "\n",
            "[%] Downloading Image #30 from https://www.chalkitupsigns.com/chalkblog/wp-content/uploads/2013/03/magruders2-1024x656.jpg\n",
            "[%] File Downloaded !\n",
            "\n",
            "\n",
            "\n",
            "[%] Done. Downloaded 30 images.\n",
            "\n",
            "===============================================\n",
            "\n",
            "time: 3min 8s (started: 2021-03-28 17:05:13 +00:00)\n"
          ],
          "name": "stdout"
        }
      ]
    },
    {
      "cell_type": "code",
      "metadata": {
        "colab": {
          "base_uri": "https://localhost:8080/"
        },
        "id": "1D3p2UkgcDZM",
        "outputId": "c6003b7f-f048-46f0-e393-6bfb188c121a"
      },
      "source": [
        "# Step 2 : Preprocessing of Images\n",
        "# i : Resizing of Images\n",
        "# ii : Flattening of Images\n",
        "\n",
        "import os\n",
        "import matplotlib.pyplot as plt\n",
        "import numpy as np\n",
        "from skimage.io import imread\n",
        "from skimage.transform import resize\n",
        "\n",
        "target = []\n",
        "images = []\n",
        "flat_data = []\n",
        "\n",
        "DATADIR = '/content/images'\n",
        "CATEGORIES = ['Starbucks Logo','McDonalds Logo', 'Dominos Pizza Logo','Subway Logo','KFC Logo','Pizza Hut Logo', 'Burger King Logo', 'Cafe Coffee Day Logo']\n",
        "\n",
        "for category in CATEGORIES:\n",
        "  class_num = CATEGORIES.index(category) # Label Encoding the values\n",
        "  path = os.path.join(DATADIR,category) # Create path to use all the images\n",
        "  for img in os.listdir(path):\n",
        "    img_array = imread(os.path.join(path,img))\n",
        "    #print(img_array.shape)\n",
        "    #plt.imshow(img_array)\n",
        "    img_resized = resize(img_array,(150,150,3)) # Normalizes the value from 0 to 1\n",
        "    flat_data.append(img_resized.flatten())\n",
        "    images.append(img_resized)\n",
        "    target.append(class_num)\n",
        "\n",
        "flat_data = np.array(flat_data)\n",
        "target = np.array(target)\n",
        "images = np.array(images)\n"
      ],
      "execution_count": null,
      "outputs": [
        {
          "output_type": "stream",
          "text": [
            "/usr/local/lib/python3.7/dist-packages/PIL/TiffImagePlugin.py:788: UserWarning: Corrupt EXIF data.  Expecting to read 4 bytes but only got 0. \n",
            "  warnings.warn(str(msg))\n"
          ],
          "name": "stderr"
        },
        {
          "output_type": "stream",
          "text": [
            "time: 57.2 s (started: 2021-03-28 17:09:08 +00:00)\n"
          ],
          "name": "stdout"
        }
      ]
    },
    {
      "cell_type": "code",
      "metadata": {
        "colab": {
          "base_uri": "https://localhost:8080/"
        },
        "id": "hsd1JgyiaxY0",
        "outputId": "b71f3f61-f0d0-4b48-a2f2-ae0be91feac4"
      },
      "source": [
        "# Array containing all the target values of images in Index Form\n",
        "\n",
        "target"
      ],
      "execution_count": null,
      "outputs": [
        {
          "output_type": "execute_result",
          "data": {
            "text/plain": [
              "array([0, 0, 0, 0, 0, 0, 0, 0, 0, 0, 0, 0, 0, 0, 0, 0, 0, 0, 0, 0, 0, 0,\n",
              "       0, 0, 0, 0, 0, 0, 0, 0, 1, 1, 1, 1, 1, 1, 1, 1, 1, 1, 1, 1, 1, 1,\n",
              "       1, 1, 1, 1, 1, 1, 1, 1, 1, 1, 1, 1, 1, 1, 1, 1, 2, 2, 2, 2, 2, 2,\n",
              "       2, 2, 2, 2, 2, 2, 2, 2, 2, 2, 2, 2, 2, 2, 2, 2, 2, 2, 2, 2, 2, 2,\n",
              "       2, 2, 3, 3, 3, 3, 3, 3, 3, 3, 3, 3, 3, 3, 3, 3, 3, 3, 3, 3, 3, 3,\n",
              "       3, 3, 3, 3, 3, 3, 3, 3, 3, 3, 4, 4, 4, 4, 4, 4, 4, 4, 4, 4, 4, 4,\n",
              "       4, 4, 4, 4, 4, 4, 4, 4, 4, 4, 4, 4, 4, 4, 4, 4, 4, 4, 5, 5, 5, 5,\n",
              "       5, 5, 5, 5, 5, 5, 5, 5, 5, 5, 5, 5, 5, 5, 5, 5, 5, 5, 5, 5, 5, 5,\n",
              "       5, 5, 5, 5, 6, 6, 6, 6, 6, 6, 6, 6, 6, 6, 6, 6, 6, 6, 6, 6, 6, 6,\n",
              "       6, 6, 6, 6, 6, 6, 6, 6, 6, 6, 6, 6, 7, 7, 7, 7, 7, 7, 7, 7, 7, 7,\n",
              "       7, 7, 7, 7, 7, 7, 7, 7, 7, 7, 7, 7, 7, 7, 7, 7, 7, 7, 7, 7])"
            ]
          },
          "metadata": {
            "tags": []
          },
          "execution_count": 49
        },
        {
          "output_type": "stream",
          "text": [
            "time: 9.64 ms (started: 2021-03-28 17:10:22 +00:00)\n"
          ],
          "name": "stdout"
        }
      ]
    },
    {
      "cell_type": "code",
      "metadata": {
        "colab": {
          "base_uri": "https://localhost:8080/",
          "height": 298
        },
        "id": "zFVvvfLicbE6",
        "outputId": "7974ba3e-6b3c-445c-bde3-755d318e700f"
      },
      "source": [
        "# Bar Graph representing the no. , types and amount of data collected\n",
        "\n",
        "unique,count = np.unique(target,return_counts=True)\n",
        "plt.bar(CATEGORIES,count)"
      ],
      "execution_count": null,
      "outputs": [
        {
          "output_type": "execute_result",
          "data": {
            "text/plain": [
              "<BarContainer object of 8 artists>"
            ]
          },
          "metadata": {
            "tags": []
          },
          "execution_count": 50
        },
        {
          "output_type": "display_data",
          "data": {
            "image/png": "[encoded data removed]",
            "text/plain": [
              "<Figure size 432x288 with 1 Axes>"
            ]
          },
          "metadata": {
            "tags": [],
            "needs_background": "light"
          }
        },
        {
          "output_type": "stream",
          "text": [
            "time: 185 ms (started: 2021-03-28 17:10:25 +00:00)\n"
          ],
          "name": "stdout"
        }
      ]
    },
    {
      "cell_type": "code",
      "metadata": {
        "colab": {
          "base_uri": "https://localhost:8080/"
        },
        "id": "ej3fK8Ldc8ZR",
        "outputId": "8bebfac2-564f-410c-ce77-d89c2b1cd43b"
      },
      "source": [
        "# Step 3 : Applying Classification Algorithm that is SVM\n",
        "# Spliting data into Training and Testing Sets\n",
        "\n",
        "from sklearn.model_selection import train_test_split\n",
        "x_train,x_test,y_train,y_test = train_test_split(flat_data,target,\n",
        "                                  test_size=0.3,random_state=109)"
      ],
      "execution_count": null,
      "outputs": [
        {
          "output_type": "stream",
          "text": [
            "time: 37.3 ms (started: 2021-03-28 17:10:29 +00:00)\n"
          ],
          "name": "stdout"
        }
      ]
    },
    {
      "cell_type": "code",
      "metadata": {
        "colab": {
          "base_uri": "https://localhost:8080/"
        },
        "id": "7PlzkWtJdAFX",
        "outputId": "6ae20e46-c0b8-4cf4-ed5e-70030bbc57a3"
      },
      "source": [
        "from sklearn.model_selection import GridSearchCV\n",
        "from sklearn import svm\n",
        "param_grid = [\n",
        "              {'C':[1,10,100,1000],'kernel':['linear']},\n",
        "              {'C':[1,10,100,1000],'gamma':[0.001,0.0001],'kernel':['rbf']},\n",
        "]\n",
        "\n",
        "svc = svm.SVC(probability=True)\n",
        "clf = GridSearchCV(svc,param_grid)\n",
        "clf.fit(x_train,y_train)"
      ],
      "execution_count": null,
      "outputs": [
        {
          "output_type": "execute_result",
          "data": {
            "text/plain": [
              "GridSearchCV(cv=None, error_score=nan,\n",
              "             estimator=SVC(C=1.0, break_ties=False, cache_size=200,\n",
              "                           class_weight=None, coef0=0.0,\n",
              "                           decision_function_shape='ovr', degree=3,\n",
              "                           gamma='scale', kernel='rbf', max_iter=-1,\n",
              "                           probability=True, random_state=None, shrinking=True,\n",
              "                           tol=0.001, verbose=False),\n",
              "             iid='deprecated', n_jobs=None,\n",
              "             param_grid=[{'C': [1, 10, 100, 1000], 'kernel': ['linear']},\n",
              "                         {'C': [1, 10, 100, 1000], 'gamma': [0.001, 0.0001],\n",
              "                          'kernel': ['rbf']}],\n",
              "             pre_dispatch='2*n_jobs', refit=True, return_train_score=False,\n",
              "             scoring=None, verbose=0)"
            ]
          },
          "metadata": {
            "tags": []
          },
          "execution_count": 52
        },
        {
          "output_type": "stream",
          "text": [
            "time: 13min 25s (started: 2021-03-28 17:10:30 +00:00)\n"
          ],
          "name": "stdout"
        }
      ]
    },
    {
      "cell_type": "code",
      "metadata": {
        "colab": {
          "base_uri": "https://localhost:8080/"
        },
        "id": "dI0qZyBidDS5",
        "outputId": "2010b437-16e8-4b57-9bae-d898a114d8ba"
      },
      "source": [
        "# Fetching the array of predicted values\n",
        "\n",
        "y_pred = clf.predict(x_test)\n",
        "y_pred"
      ],
      "execution_count": null,
      "outputs": [
        {
          "output_type": "execute_result",
          "data": {
            "text/plain": [
              "array([7, 0, 6, 0, 1, 5, 0, 1, 6, 7, 0, 2, 6, 3, 3, 0, 5, 0, 0, 3, 1, 5,\n",
              "       3, 3, 7, 6, 7, 0, 1, 1, 1, 4, 5, 5, 4, 6, 3, 2, 4, 1, 3, 5, 2, 6,\n",
              "       6, 0, 3, 2, 5, 4, 2, 3, 2, 3, 7, 4, 5, 2, 7, 7, 3, 5, 3, 1, 4, 5,\n",
              "       2, 0, 5, 2, 7, 4])"
            ]
          },
          "metadata": {
            "tags": []
          },
          "execution_count": 53
        },
        {
          "output_type": "stream",
          "text": [
            "time: 813 ms (started: 2021-03-28 17:29:21 +00:00)\n"
          ],
          "name": "stdout"
        }
      ]
    },
    {
      "cell_type": "code",
      "metadata": {
        "colab": {
          "base_uri": "https://localhost:8080/"
        },
        "id": "8MDTY2dadHzX",
        "outputId": "483052ca-4485-4d4c-ab17-79ecc8f23b4a"
      },
      "source": [
        "# Fetching the values of actual values\n",
        "\n",
        "y_test"
      ],
      "execution_count": null,
      "outputs": [
        {
          "output_type": "execute_result",
          "data": {
            "text/plain": [
              "array([7, 0, 6, 0, 1, 5, 0, 1, 6, 7, 0, 2, 6, 3, 3, 0, 5, 0, 0, 3, 1, 5,\n",
              "       3, 3, 7, 6, 7, 0, 1, 1, 1, 4, 5, 5, 4, 6, 3, 2, 4, 1, 3, 5, 2, 6,\n",
              "       6, 0, 3, 2, 5, 4, 2, 3, 2, 3, 7, 4, 5, 2, 7, 7, 3, 5, 3, 1, 4, 5,\n",
              "       2, 0, 5, 2, 7, 4])"
            ]
          },
          "metadata": {
            "tags": []
          },
          "execution_count": 54
        },
        {
          "output_type": "stream",
          "text": [
            "time: 4.08 ms (started: 2021-03-28 17:29:24 +00:00)\n"
          ],
          "name": "stdout"
        }
      ]
    },
    {
      "cell_type": "code",
      "metadata": {
        "colab": {
          "base_uri": "https://localhost:8080/"
        },
        "id": "RjEd-kHhdKTw",
        "outputId": "363054b6-8442-4aa8-93b7-a37c6515f963"
      },
      "source": [
        "# Step 4 : Evaluating the model using Confusion Matrix and Classification report\n",
        "\n",
        "from sklearn.metrics import accuracy_score,confusion_matrix"
      ],
      "execution_count": null,
      "outputs": [
        {
          "output_type": "stream",
          "text": [
            "time: 853 µs (started: 2021-03-28 17:29:28 +00:00)\n"
          ],
          "name": "stdout"
        }
      ]
    },
    {
      "cell_type": "code",
      "metadata": {
        "colab": {
          "base_uri": "https://localhost:8080/"
        },
        "id": "kBGLImh8dM3-",
        "outputId": "07613aa7-af71-4205-c8f8-5f107c8cf552"
      },
      "source": [
        "accuracy_score(y_pred,y_test)"
      ],
      "execution_count": null,
      "outputs": [
        {
          "output_type": "execute_result",
          "data": {
            "text/plain": [
              "1.0"
            ]
          },
          "metadata": {
            "tags": []
          },
          "execution_count": 56
        },
        {
          "output_type": "stream",
          "text": [
            "time: 6.25 ms (started: 2021-03-28 17:29:31 +00:00)\n"
          ],
          "name": "stdout"
        }
      ]
    },
    {
      "cell_type": "code",
      "metadata": {
        "colab": {
          "base_uri": "https://localhost:8080/"
        },
        "id": "NRFyOl4QdP81",
        "outputId": "bfe235b1-807d-438a-a952-4c4366e46d8f"
      },
      "source": [
        "confusion_matrix(y_pred,y_test)"
      ],
      "execution_count": null,
      "outputs": [
        {
          "output_type": "execute_result",
          "data": {
            "text/plain": [
              "array([[10,  0,  0,  0,  0,  0,  0,  0],\n",
              "       [ 0,  8,  0,  0,  0,  0,  0,  0],\n",
              "       [ 0,  0,  9,  0,  0,  0,  0,  0],\n",
              "       [ 0,  0,  0, 12,  0,  0,  0,  0],\n",
              "       [ 0,  0,  0,  0,  7,  0,  0,  0],\n",
              "       [ 0,  0,  0,  0,  0, 11,  0,  0],\n",
              "       [ 0,  0,  0,  0,  0,  0,  7,  0],\n",
              "       [ 0,  0,  0,  0,  0,  0,  0,  8]])"
            ]
          },
          "metadata": {
            "tags": []
          },
          "execution_count": 57
        },
        {
          "output_type": "stream",
          "text": [
            "time: 11.8 ms (started: 2021-03-28 17:29:34 +00:00)\n"
          ],
          "name": "stdout"
        }
      ]
    },
    {
      "cell_type": "code",
      "metadata": {
        "colab": {
          "base_uri": "https://localhost:8080/"
        },
        "id": "bIN79FLmdUC5",
        "outputId": "6f493893-59a4-477f-9a2b-d48a003e5e68"
      },
      "source": [
        "# Saving the model using Pickle library\n",
        "\n",
        "import pickle\n",
        "pickle.dump(clf,open('img_model.p','wb'))"
      ],
      "execution_count": null,
      "outputs": [
        {
          "output_type": "stream",
          "text": [
            "time: 77.8 ms (started: 2021-03-28 17:29:36 +00:00)\n"
          ],
          "name": "stdout"
        }
      ]
    },
    {
      "cell_type": "code",
      "metadata": {
        "colab": {
          "base_uri": "https://localhost:8080/"
        },
        "id": "W3Nz10C2dXUi",
        "outputId": "1a351687-bd5c-4c3f-8224-509b57e8ac24"
      },
      "source": [
        "model = pickle.load(open('img_model.p','rb'))"
      ],
      "execution_count": null,
      "outputs": [
        {
          "output_type": "stream",
          "text": [
            "time: 32.4 ms (started: 2021-03-28 17:29:39 +00:00)\n"
          ],
          "name": "stdout"
        }
      ]
    },
    {
      "cell_type": "code",
      "metadata": {
        "colab": {
          "base_uri": "https://localhost:8080/",
          "height": 356
        },
        "id": "u2b1uKQzdZ2T",
        "outputId": "0c0650dd-4a0e-4a23-c661-f9e3a1403585"
      },
      "source": [
        "# Step 5 : Prediction for any new Image\n",
        "\n",
        "flat_data = []\n",
        "url = input('Enter your URL')\n",
        "img = imread(url)\n",
        "img_resized = resize(img,(150,150,3))\n",
        "flat_data.append(img_resized.flatten())\n",
        "flat_data = np.array(flat_data)\n",
        "print(img.shape)\n",
        "plt.imshow(img_resized)\n",
        "y_out = model.predict(flat_data)\n",
        "y_out = CATEGORIES[y_out[0]]\n",
        "print(f' PREDICTED OUTPUT: {y_out}')"
      ],
      "execution_count": null,
      "outputs": [
        {
          "output_type": "stream",
          "text": [
            "Enter your URLhttps://www.deccanherald.com/sites/dh/files/article_images/2020/03/28/2019-07-31T135424Z_1384936942_RC19F97AEBC0_RTRMADP_3_COFFEEDAYENTERPRISES-CEO-BACKLASH%20%281%29-1585373185.jpg\n",
            "(2739, 4088, 3)\n",
            " PREDICTED OUTPUT: KFC Logo\n"
          ],
          "name": "stdout"
        },
        {
          "output_type": "display_data",
          "data": {
            "image/png": "[encoded data removed]",
            "text/plain": [
              "<Figure size 432x288 with 1 Axes>"
            ]
          },
          "metadata": {
            "tags": [],
            "needs_background": "light"
          }
        },
        {
          "output_type": "stream",
          "text": [
            "time: 49.2 s (started: 2021-03-28 17:29:41 +00:00)\n"
          ],
          "name": "stdout"
        }
      ]
    },
    {
      "cell_type": "code",
      "metadata": {
        "colab": {
          "base_uri": "https://localhost:8080/"
        },
        "id": "ViyPVa8CdegR",
        "outputId": "148a4176-5169-4eae-d9ad-02ba0d45ae7c"
      },
      "source": [
        "# Step 6 : Deployment for webapp using Streamlit/Dash\n",
        "\n",
        "!pip install streamlit --quiet\n",
        "\n",
        "!pip install pyngrok==4.1.1 --quiet\n",
        "from pyngrok import ngrok"
      ],
      "execution_count": null,
      "outputs": [
        {
          "output_type": "stream",
          "text": [
            "time: 5.68 s (started: 2021-03-28 16:28:09 +00:00)\n"
          ],
          "name": "stdout"
        }
      ]
    },
    {
      "cell_type": "code",
      "metadata": {
        "colab": {
          "base_uri": "https://localhost:8080/"
        },
        "id": "JCe3MXeBdwNU",
        "outputId": "c0ee513b-a152-4994-fe1e-3ffc5ef1f795"
      },
      "source": [
        "# Writing of an app\n",
        "\n",
        "%%writefile app.py\n",
        "import streamlit as st\n",
        "import numpy as np\n",
        "from skimage.io import imread\n",
        "from skimage.transform import resize\n",
        "import pickle \n",
        "from PIL import Image\n",
        "st.set_option('deprecation.showfileUploaderEncoding', False)\n",
        "st.title('Famous Food Logo Classifier')\n",
        "st.text('Upload the Image')\n",
        "\n",
        "model = pickle.load(open('img_model.p','rb'))\n",
        "\n",
        "uploaded_file = st.file_uploader(\"Choose an image...\", type=\"jpg\")\n",
        "if uploaded_file is not None:\n",
        "  img = Image.open(uploaded_file)\n",
        "  st.image(img,caption='Uploaded Image')\n",
        "\n",
        "  if st.button('PREDICT'):\n",
        "    CATEGORIES = ['Starbucks Logo','McDonalds Logo', 'Dominos Pizza Logo','Subway Logo','KFC Logo','Pizza Hut Logo', 'Burger King Logo', 'Cafe Coffee Day Logo']\n",
        "    st.write('Result...')\n",
        "    flat_data=[]\n",
        "    img = np.array(img)\n",
        "    img_resized = resize(img,(150,150,3))\n",
        "    flat_data.append(img_resized.flatten())\n",
        "    flat_data = np.array(flat_data)\n",
        "    y_out = model.predict(flat_data)\n",
        "    y_out = CATEGORIES[y_out[0]]\n",
        "    st.title(f' Predicted Output: {y_out}')\n",
        "    q = model.predict_proba(flat_data)\n",
        "    for index, item in enumerate(CATEGORIES):\n",
        "      st.write(f'{item} : {q[0][index]*100}%')\n"
      ],
      "execution_count": null,
      "outputs": [
        {
          "output_type": "stream",
          "text": [
            "Overwriting app.py\n",
            "time: 3.94 ms (started: 2021-03-28 17:30:46 +00:00)\n"
          ],
          "name": "stdout"
        }
      ]
    },
    {
      "cell_type": "code",
      "metadata": {
        "colab": {
          "base_uri": "https://localhost:8080/",
          "height": 52
        },
        "id": "ZTeikmS6dw1o",
        "outputId": "5f5c86d3-d333-441f-b960-2de354bc965d"
      },
      "source": [
        "# Creating a link\n",
        "\n",
        "!nohup streamlit run app.py &\n",
        "url = ngrok.connect(port='8501')\n",
        "url"
      ],
      "execution_count": null,
      "outputs": [
        {
          "output_type": "stream",
          "text": [
            "nohup: appending output to 'nohup.out'\n"
          ],
          "name": "stdout"
        },
        {
          "output_type": "execute_result",
          "data": {
            "application/vnd.google.colaboratory.intrinsic+json": {
              "type": "string"
            },
            "text/plain": [
              "'http://b3e51150b2f0.ngrok.io'"
            ]
          },
          "metadata": {
            "tags": []
          },
          "execution_count": 25
        },
        {
          "output_type": "stream",
          "text": [
            "time: 1.44 s (started: 2021-03-28 15:48:34 +00:00)\n"
          ],
          "name": "stdout"
        }
      ]
    },
    {
      "cell_type": "code",
      "metadata": {
        "id": "-d09xVTehc9m"
      },
      "source": [
        ""
      ],
      "execution_count": null,
      "outputs": []
    }
  ]
}